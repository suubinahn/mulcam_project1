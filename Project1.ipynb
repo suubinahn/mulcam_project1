{
 "cells": [
  {
   "cell_type": "markdown",
   "id": "1f0f0079",
   "metadata": {},
   "source": [
    "### sql 및 시각화 작업"
   ]
  },
  {
   "cell_type": "code",
   "execution_count": 60,
   "id": "1df6a411",
   "metadata": {},
   "outputs": [],
   "source": [
    "# 1) 2019~2022 -> 서울시 -> 반려동물 유무 -> 있다\n",
    "\n",
    "sql = \"\"\"\n",
    "SELECT  \n",
    "   string_field_0,\n",
    "   string_field_1,\n",
    "   string_field_2,\n",
    "   string_field_10,\n",
    "   string_field_19,\n",
    "   string_field_28,\n",
    "FROM \n",
    "   project1.pets\n",
    "WHERE\n",
    "   string_field_0 = \"서울시\"\n",
    "\"\"\""
   ]
  },
  {
   "cell_type": "code",
   "execution_count": 61,
   "id": "c8eb7e42",
   "metadata": {},
   "outputs": [
    {
     "data": {
      "text/html": [
       "<div>\n",
       "<style scoped>\n",
       "    .dataframe tbody tr th:only-of-type {\n",
       "        vertical-align: middle;\n",
       "    }\n",
       "\n",
       "    .dataframe tbody tr th {\n",
       "        vertical-align: top;\n",
       "    }\n",
       "\n",
       "    .dataframe thead th {\n",
       "        text-align: right;\n",
       "    }\n",
       "</style>\n",
       "<table border=\"1\" class=\"dataframe\">\n",
       "  <thead>\n",
       "    <tr style=\"text-align: right;\">\n",
       "      <th></th>\n",
       "      <th>string_field_0</th>\n",
       "      <th>string_field_1</th>\n",
       "      <th>string_field_2</th>\n",
       "      <th>string_field_10</th>\n",
       "      <th>string_field_19</th>\n",
       "      <th>string_field_28</th>\n",
       "    </tr>\n",
       "  </thead>\n",
       "  <tbody>\n",
       "    <tr>\n",
       "      <th>0</th>\n",
       "      <td>서울시</td>\n",
       "      <td>소계</td>\n",
       "      <td>20.1</td>\n",
       "      <td>20.0</td>\n",
       "      <td>19.6</td>\n",
       "      <td>22.2</td>\n",
       "    </tr>\n",
       "  </tbody>\n",
       "</table>\n",
       "</div>"
      ],
      "text/plain": [
       "  string_field_0 string_field_1 string_field_2 string_field_10  \\\n",
       "0            서울시             소계           20.1            20.0   \n",
       "\n",
       "  string_field_19 string_field_28  \n",
       "0            19.6            22.2  "
      ]
     },
     "execution_count": 61,
     "metadata": {},
     "output_type": "execute_result"
    }
   ],
   "source": [
    "df = client.query(sql).to_dataframe()\n",
    "df"
   ]
  },
  {
   "cell_type": "code",
   "execution_count": 52,
   "id": "5a75e1df",
   "metadata": {},
   "outputs": [],
   "source": [
    "# 1) 2019~2022 -> 서울시 -> 반려동물 유무 -> 없다\n",
    "\n",
    "sql = \"\"\"\n",
    "SELECT  \n",
    "   string_field_0,\n",
    "   string_field_1,\n",
    "   string_field_3,\n",
    "   string_field_11,\n",
    "   string_field_20,\n",
    "   string_field_29\n",
    "FROM \n",
    "   project1.pets\n",
    "WHERE\n",
    "   string_field_0 = \"서울시\"\n",
    "\"\"\""
   ]
  },
  {
   "cell_type": "code",
   "execution_count": 53,
   "id": "dfda66ab",
   "metadata": {},
   "outputs": [
    {
     "data": {
      "text/html": [
       "<div>\n",
       "<style scoped>\n",
       "    .dataframe tbody tr th:only-of-type {\n",
       "        vertical-align: middle;\n",
       "    }\n",
       "\n",
       "    .dataframe tbody tr th {\n",
       "        vertical-align: top;\n",
       "    }\n",
       "\n",
       "    .dataframe thead th {\n",
       "        text-align: right;\n",
       "    }\n",
       "</style>\n",
       "<table border=\"1\" class=\"dataframe\">\n",
       "  <thead>\n",
       "    <tr style=\"text-align: right;\">\n",
       "      <th></th>\n",
       "      <th>string_field_0</th>\n",
       "      <th>string_field_1</th>\n",
       "      <th>string_field_3</th>\n",
       "      <th>string_field_11</th>\n",
       "      <th>string_field_20</th>\n",
       "      <th>string_field_29</th>\n",
       "    </tr>\n",
       "  </thead>\n",
       "  <tbody>\n",
       "    <tr>\n",
       "      <th>0</th>\n",
       "      <td>서울시</td>\n",
       "      <td>소계</td>\n",
       "      <td>79.9</td>\n",
       "      <td>80.0</td>\n",
       "      <td>80.4</td>\n",
       "      <td>77.8</td>\n",
       "    </tr>\n",
       "  </tbody>\n",
       "</table>\n",
       "</div>"
      ],
      "text/plain": [
       "  string_field_0 string_field_1 string_field_3 string_field_11  \\\n",
       "0            서울시             소계           79.9            80.0   \n",
       "\n",
       "  string_field_20 string_field_29  \n",
       "0            80.4            77.8  "
      ]
     },
     "execution_count": 53,
     "metadata": {},
     "output_type": "execute_result"
    }
   ],
   "source": [
    "df = client.query(sql).to_dataframe()\n",
    "df"
   ]
  },
  {
   "cell_type": "code",
   "execution_count": 54,
   "id": "2605da41",
   "metadata": {},
   "outputs": [],
   "source": [
    "# import seaborn as sns"
   ]
  },
  {
   "cell_type": "code",
   "execution_count": 1,
   "id": "a133bb04",
   "metadata": {},
   "outputs": [
    {
     "data": {
      "image/png": "[encoded data removed]",
      "text/plain": [
       "<Figure size 640x480 with 1 Axes>"
      ]
     },
     "metadata": {},
     "output_type": "display_data"
    }
   ],
   "source": [
    "# 1) 2019~2022 -> 서울시 -> 반려동물 유무 -> 있다\n",
    "# 1) 2019~2022 -> 서울시 -> 반려동물 유무 -> 없다\n",
    "# 그래프 합치기\n",
    "\n",
    "import matplotlib.pyplot as plt\n",
    "\n",
    "# Data for the first line graph\n",
    "x_values1 = [2019, 2020, 2021, 2022]\n",
    "y_values1 = [20.1, 20.0, 19.6, 22.2]\n",
    "\n",
    "# Data for the second line graph\n",
    "x_values2 = [2019, 2020, 2021, 2022]\n",
    "y_values2 = [79.9, 80.0, 80.4, 77.8]\n",
    "\n",
    "# Create two line graphs\n",
    "plt.plot(x_values1, y_values1, marker='o', linestyle='-', color='blue', label='Yes')\n",
    "plt.plot(x_values2, y_values2, marker='s', linestyle='--', color='green', label='No')\n",
    "\n",
    "# Adding labels and title\n",
    "plt.xlabel('Years')\n",
    "plt.ylabel('Values(%)')\n",
    "plt.title('Seoul, \"Do you have pet(s)? Yes or No\"')\n",
    "\n",
    "# Adding a legend\n",
    "plt.legend()\n",
    "\n",
    "# Display the line graphs\n",
    "plt.show()"
   ]
  },
  {
   "cell_type": "code",
   "execution_count": 117,
   "id": "0fb15b4b",
   "metadata": {},
   "outputs": [],
   "source": [
    "# 2) 2019~2022 -> 성별(여자) -> 반려동물 유무 -> 있다\n",
    "\n",
    "sql = \"\"\"\n",
    "SELECT  \n",
    "   string_field_0,\n",
    "   string_field_1,\n",
    "   string_field_2,\n",
    "   string_field_10,\n",
    "   string_field_19,\n",
    "   string_field_28\n",
    "FROM \n",
    "   project1.pets\n",
    "WHERE\n",
    "   string_field_0 = \"성별\" AND\n",
    "   string_field_1 = \"여성\"\n",
    "\"\"\""
   ]
  },
  {
   "cell_type": "code",
   "execution_count": 118,
   "id": "bec9871d",
   "metadata": {},
   "outputs": [
    {
     "data": {
      "text/html": [
       "<div>\n",
       "<style scoped>\n",
       "    .dataframe tbody tr th:only-of-type {\n",
       "        vertical-align: middle;\n",
       "    }\n",
       "\n",
       "    .dataframe tbody tr th {\n",
       "        vertical-align: top;\n",
       "    }\n",
       "\n",
       "    .dataframe thead th {\n",
       "        text-align: right;\n",
       "    }\n",
       "</style>\n",
       "<table border=\"1\" class=\"dataframe\">\n",
       "  <thead>\n",
       "    <tr style=\"text-align: right;\">\n",
       "      <th></th>\n",
       "      <th>string_field_0</th>\n",
       "      <th>string_field_1</th>\n",
       "      <th>string_field_2</th>\n",
       "      <th>string_field_10</th>\n",
       "      <th>string_field_19</th>\n",
       "      <th>string_field_28</th>\n",
       "    </tr>\n",
       "  </thead>\n",
       "  <tbody>\n",
       "    <tr>\n",
       "      <th>0</th>\n",
       "      <td>성별</td>\n",
       "      <td>여성</td>\n",
       "      <td>23.9</td>\n",
       "      <td>20.2</td>\n",
       "      <td>18.9</td>\n",
       "      <td>20.8</td>\n",
       "    </tr>\n",
       "  </tbody>\n",
       "</table>\n",
       "</div>"
      ],
      "text/plain": [
       "  string_field_0 string_field_1 string_field_2 string_field_10  \\\n",
       "0             성별             여성           23.9            20.2   \n",
       "\n",
       "  string_field_19 string_field_28  \n",
       "0            18.9            20.8  "
      ]
     },
     "execution_count": 118,
     "metadata": {},
     "output_type": "execute_result"
    }
   ],
   "source": [
    "df = client.query(sql).to_dataframe()\n",
    "df"
   ]
  },
  {
   "cell_type": "code",
   "execution_count": 49,
   "id": "4a6362d3",
   "metadata": {},
   "outputs": [
    {
     "data": {
      "image/png": "[encoded data removed]",
      "text/plain": [
       "<Figure size 640x480 with 1 Axes>"
      ]
     },
     "metadata": {},
     "output_type": "display_data"
    }
   ],
   "source": [
    "# 2) 2019~2022 -> 성별(여자) -> 반려동물 유무 -> 있다\n",
    "\n",
    "import matplotlib.pyplot as plt\n",
    "\n",
    "# Data for the bar graph\n",
    "categories = ['2019', '2020', '2021', '2022']\n",
    "values = [23.9, 20.2, 18.9, 20.8]\n",
    "\n",
    "# Create a bar graph\n",
    "plt.bar(categories, values, color='blue', width=0.5)\n",
    "\n",
    "# Adding labels and title\n",
    "plt.xlabel('Years')\n",
    "plt.ylabel('Values(%)')\n",
    "plt.title('Women, \"have pet(s)\"')\n",
    "\n",
    "# Display the bar graph\n",
    "plt.show()"
   ]
  },
  {
   "cell_type": "code",
   "execution_count": 119,
   "id": "b9d9d239",
   "metadata": {},
   "outputs": [],
   "source": [
    "# 2) 2019~2022 -> 성별(남자) -> 반려동물 유무 -> 있다\n",
    "\n",
    "sql = \"\"\"\n",
    "SELECT  \n",
    "   string_field_0,\n",
    "   string_field_1,\n",
    "   string_field_2,\n",
    "   string_field_10,\n",
    "   string_field_19,\n",
    "   string_field_28,\n",
    "FROM \n",
    "   project1.pets\n",
    "WHERE\n",
    "   string_field_0 = \"성별\" AND\n",
    "   string_field_1 = \"남성\"\n",
    "\"\"\""
   ]
  },
  {
   "cell_type": "code",
   "execution_count": 120,
   "id": "3ba5f0e0",
   "metadata": {},
   "outputs": [
    {
     "data": {
      "text/html": [
       "<div>\n",
       "<style scoped>\n",
       "    .dataframe tbody tr th:only-of-type {\n",
       "        vertical-align: middle;\n",
       "    }\n",
       "\n",
       "    .dataframe tbody tr th {\n",
       "        vertical-align: top;\n",
       "    }\n",
       "\n",
       "    .dataframe thead th {\n",
       "        text-align: right;\n",
       "    }\n",
       "</style>\n",
       "<table border=\"1\" class=\"dataframe\">\n",
       "  <thead>\n",
       "    <tr style=\"text-align: right;\">\n",
       "      <th></th>\n",
       "      <th>string_field_0</th>\n",
       "      <th>string_field_1</th>\n",
       "      <th>string_field_2</th>\n",
       "      <th>string_field_10</th>\n",
       "      <th>string_field_19</th>\n",
       "      <th>string_field_28</th>\n",
       "    </tr>\n",
       "  </thead>\n",
       "  <tbody>\n",
       "    <tr>\n",
       "      <th>0</th>\n",
       "      <td>성별</td>\n",
       "      <td>남성</td>\n",
       "      <td>18.7</td>\n",
       "      <td>19.9</td>\n",
       "      <td>20.0</td>\n",
       "      <td>22.8</td>\n",
       "    </tr>\n",
       "  </tbody>\n",
       "</table>\n",
       "</div>"
      ],
      "text/plain": [
       "  string_field_0 string_field_1 string_field_2 string_field_10  \\\n",
       "0             성별             남성           18.7            19.9   \n",
       "\n",
       "  string_field_19 string_field_28  \n",
       "0            20.0            22.8  "
      ]
     },
     "execution_count": 120,
     "metadata": {},
     "output_type": "execute_result"
    }
   ],
   "source": [
    "df = client.query(sql).to_dataframe()\n",
    "df"
   ]
  },
  {
   "cell_type": "code",
   "execution_count": 48,
   "id": "091cc6c9",
   "metadata": {},
   "outputs": [
    {
     "data": {
      "image/png": "[encoded data removed]",
      "text/plain": [
       "<Figure size 640x480 with 1 Axes>"
      ]
     },
     "metadata": {},
     "output_type": "display_data"
    }
   ],
   "source": [
    "# 2) 2019~2022 -> 성별(남자) -> 반려동물 유무 -> 있다\n",
    "\n",
    "import matplotlib.pyplot as plt\n",
    "\n",
    "# Data for the bar graph\n",
    "categories = ['2019', '2020', '2021', '2022']\n",
    "values = [18.7, 19.9, 20.0, 22.8]\n",
    "\n",
    "# Create a bar graph\n",
    "plt.bar(categories, values, color='green', width=0.5)\n",
    "\n",
    "# Adding labels and title\n",
    "plt.xlabel('Years')\n",
    "plt.ylabel('Values(%)')\n",
    "plt.title('Men, \"have pet(s)\"')\n",
    "\n",
    "# Display the bar graph\n",
    "plt.show()"
   ]
  },
  {
   "cell_type": "code",
   "execution_count": 4,
   "id": "2191925c",
   "metadata": {},
   "outputs": [],
   "source": [
    "# 2) 2019~2022 -> 성별(여자) -> 반려동물 유무 -> 없다\n",
    "\n",
    "sql = \"\"\"\n",
    "SELECT  \n",
    "   string_field_0,\n",
    "   string_field_1,\n",
    "   string_field_3,\n",
    "   string_field_11,\n",
    "   string_field_20,\n",
    "   string_field_29\n",
    "FROM \n",
    "   project1.pets\n",
    "WHERE\n",
    "   string_field_0 = \"성별\" AND\n",
    "   string_field_1 = \"여성\"\n",
    "\"\"\""
   ]
  },
  {
   "cell_type": "code",
   "execution_count": 8,
   "id": "57455267",
   "metadata": {},
   "outputs": [
    {
     "data": {
      "text/html": [
       "<div>\n",
       "<style scoped>\n",
       "    .dataframe tbody tr th:only-of-type {\n",
       "        vertical-align: middle;\n",
       "    }\n",
       "\n",
       "    .dataframe tbody tr th {\n",
       "        vertical-align: top;\n",
       "    }\n",
       "\n",
       "    .dataframe thead th {\n",
       "        text-align: right;\n",
       "    }\n",
       "</style>\n",
       "<table border=\"1\" class=\"dataframe\">\n",
       "  <thead>\n",
       "    <tr style=\"text-align: right;\">\n",
       "      <th></th>\n",
       "      <th>string_field_0</th>\n",
       "      <th>string_field_1</th>\n",
       "      <th>string_field_3</th>\n",
       "      <th>string_field_11</th>\n",
       "      <th>string_field_20</th>\n",
       "      <th>string_field_29</th>\n",
       "    </tr>\n",
       "  </thead>\n",
       "  <tbody>\n",
       "    <tr>\n",
       "      <th>0</th>\n",
       "      <td>성별</td>\n",
       "      <td>여성</td>\n",
       "      <td>76.1</td>\n",
       "      <td>79.8</td>\n",
       "      <td>81.1</td>\n",
       "      <td>79.2</td>\n",
       "    </tr>\n",
       "  </tbody>\n",
       "</table>\n",
       "</div>"
      ],
      "text/plain": [
       "  string_field_0 string_field_1 string_field_3 string_field_11  \\\n",
       "0             성별             여성           76.1            79.8   \n",
       "\n",
       "  string_field_20 string_field_29  \n",
       "0            81.1            79.2  "
      ]
     },
     "execution_count": 8,
     "metadata": {},
     "output_type": "execute_result"
    }
   ],
   "source": [
    "df = client.query(sql).to_dataframe()\n",
    "df"
   ]
  },
  {
   "cell_type": "code",
   "execution_count": 47,
   "id": "be8d32d8",
   "metadata": {},
   "outputs": [
    {
     "data": {
      "image/png": "[encoded data removed]",
      "text/plain": [
       "<Figure size 640x480 with 1 Axes>"
      ]
     },
     "metadata": {},
     "output_type": "display_data"
    }
   ],
   "source": [
    "import matplotlib.pyplot as plt\n",
    "\n",
    "# Data for the bar graph\n",
    "categories = ['2019', '2020', '2021', '2022']\n",
    "values = [76.1, 79.8, 81.1, 79.2]\n",
    "\n",
    "# Create a bar graph\n",
    "plt.bar(categories, values, color='blue', width=0.5)\n",
    "\n",
    "# Adding labels and title\n",
    "plt.xlabel('Years')\n",
    "plt.ylabel('Values(%)')\n",
    "plt.title('Women, \"no pet\"')\n",
    "\n",
    "# Display the bar graph\n",
    "plt.show()"
   ]
  },
  {
   "cell_type": "code",
   "execution_count": 9,
   "id": "34ee9cfa",
   "metadata": {},
   "outputs": [],
   "source": [
    "# 2) 2019~2022 -> 성별(남자) -> 반려동물 유무 -> 없다\n",
    "\n",
    "sql = \"\"\"\n",
    "SELECT  \n",
    "string_field_0,\n",
    "   string_field_1,\n",
    "   string_field_3,\n",
    "   string_field_11,\n",
    "   string_field_20,\n",
    "   string_field_29\n",
    "FROM \n",
    "   project1.pets\n",
    "WHERE\n",
    "   string_field_0 = \"성별\" AND\n",
    "   string_field_1 = \"남성\"\n",
    "\"\"\""
   ]
  },
  {
   "cell_type": "code",
   "execution_count": 10,
   "id": "dd212c78",
   "metadata": {},
   "outputs": [
    {
     "data": {
      "text/html": [
       "<div>\n",
       "<style scoped>\n",
       "    .dataframe tbody tr th:only-of-type {\n",
       "        vertical-align: middle;\n",
       "    }\n",
       "\n",
       "    .dataframe tbody tr th {\n",
       "        vertical-align: top;\n",
       "    }\n",
       "\n",
       "    .dataframe thead th {\n",
       "        text-align: right;\n",
       "    }\n",
       "</style>\n",
       "<table border=\"1\" class=\"dataframe\">\n",
       "  <thead>\n",
       "    <tr style=\"text-align: right;\">\n",
       "      <th></th>\n",
       "      <th>string_field_0</th>\n",
       "      <th>string_field_1</th>\n",
       "      <th>string_field_3</th>\n",
       "      <th>string_field_11</th>\n",
       "      <th>string_field_20</th>\n",
       "      <th>string_field_29</th>\n",
       "    </tr>\n",
       "  </thead>\n",
       "  <tbody>\n",
       "    <tr>\n",
       "      <th>0</th>\n",
       "      <td>성별</td>\n",
       "      <td>남성</td>\n",
       "      <td>81.3</td>\n",
       "      <td>80.1</td>\n",
       "      <td>80.0</td>\n",
       "      <td>77.2</td>\n",
       "    </tr>\n",
       "  </tbody>\n",
       "</table>\n",
       "</div>"
      ],
      "text/plain": [
       "  string_field_0 string_field_1 string_field_3 string_field_11  \\\n",
       "0             성별             남성           81.3            80.1   \n",
       "\n",
       "  string_field_20 string_field_29  \n",
       "0            80.0            77.2  "
      ]
     },
     "execution_count": 10,
     "metadata": {},
     "output_type": "execute_result"
    }
   ],
   "source": [
    "df = client.query(sql).to_dataframe()\n",
    "df"
   ]
  },
  {
   "cell_type": "code",
   "execution_count": 46,
   "id": "36e48d62",
   "metadata": {},
   "outputs": [
    {
     "data": {
      "image/png": "[encoded data removed]",
      "text/plain": [
       "<Figure size 640x480 with 1 Axes>"
      ]
     },
     "metadata": {},
     "output_type": "display_data"
    }
   ],
   "source": [
    "import matplotlib.pyplot as plt\n",
    "\n",
    "# Data for the bar graph\n",
    "categories = ['2019', '2020', '2021', '2022']\n",
    "values = [81.3, 80.1, 80.0, 77.2]\n",
    "\n",
    "# Create a bar graph\n",
    "plt.bar(categories, values, color='green', width=0.5)\n",
    "\n",
    "# Adding labels and title\n",
    "plt.xlabel('Years')\n",
    "plt.ylabel('Values(%)')\n",
    "plt.title('Men, \"no pet\"')\n",
    "\n",
    "# Display the bar graph\n",
    "plt.show()"
   ]
  },
  {
   "cell_type": "code",
   "execution_count": 28,
   "id": "83558476",
   "metadata": {},
   "outputs": [],
   "source": [
    "# 3) 2019~2022 -> 연령별(20대 이하, 30대, 40대, 50대, 60세 이상) 20대 이하 -> 반려동물 유무 -> 있다\n",
    "\n",
    "sql = \"\"\"\n",
    "SELECT  \n",
    "   string_field_0,\n",
    "   string_field_1,\n",
    "   string_field_2,\n",
    "   string_field_10,\n",
    "   string_field_19,\n",
    "   string_field_28\n",
    "FROM \n",
    "   project1.pets\n",
    "WHERE\n",
    "   string_field_0 = \"연령별\" AND\n",
    "   string_field_1 = \"20대 이하\"\n",
    "\"\"\""
   ]
  },
  {
   "cell_type": "code",
   "execution_count": 29,
   "id": "69e0c218",
   "metadata": {},
   "outputs": [
    {
     "data": {
      "text/html": [
       "<div>\n",
       "<style scoped>\n",
       "    .dataframe tbody tr th:only-of-type {\n",
       "        vertical-align: middle;\n",
       "    }\n",
       "\n",
       "    .dataframe tbody tr th {\n",
       "        vertical-align: top;\n",
       "    }\n",
       "\n",
       "    .dataframe thead th {\n",
       "        text-align: right;\n",
       "    }\n",
       "</style>\n",
       "<table border=\"1\" class=\"dataframe\">\n",
       "  <thead>\n",
       "    <tr style=\"text-align: right;\">\n",
       "      <th></th>\n",
       "      <th>string_field_0</th>\n",
       "      <th>string_field_1</th>\n",
       "      <th>string_field_2</th>\n",
       "      <th>string_field_10</th>\n",
       "      <th>string_field_19</th>\n",
       "      <th>string_field_28</th>\n",
       "    </tr>\n",
       "  </thead>\n",
       "  <tbody>\n",
       "    <tr>\n",
       "      <th>0</th>\n",
       "      <td>연령별</td>\n",
       "      <td>20대 이하</td>\n",
       "      <td>20.4</td>\n",
       "      <td>17.7</td>\n",
       "      <td>16.3</td>\n",
       "      <td>20.0</td>\n",
       "    </tr>\n",
       "  </tbody>\n",
       "</table>\n",
       "</div>"
      ],
      "text/plain": [
       "  string_field_0 string_field_1 string_field_2 string_field_10  \\\n",
       "0            연령별         20대 이하           20.4            17.7   \n",
       "\n",
       "  string_field_19 string_field_28  \n",
       "0            16.3            20.0  "
      ]
     },
     "execution_count": 29,
     "metadata": {},
     "output_type": "execute_result"
    }
   ],
   "source": [
    "df = client.query(sql).to_dataframe()\n",
    "df"
   ]
  },
  {
   "cell_type": "code",
   "execution_count": null,
   "id": "981f09a3",
   "metadata": {},
   "outputs": [],
   "source": []
  },
  {
   "cell_type": "code",
   "execution_count": 30,
   "id": "ec3f89ac",
   "metadata": {},
   "outputs": [],
   "source": [
    "# 3) 2019~2022 -> 연령별(20대 이하, 30대, 40대, 50대, 60세 이상) 30대 -> 반려동물 유무 -> 있다\n",
    "\n",
    "sql = \"\"\"\n",
    "SELECT  \n",
    "   string_field_0,\n",
    "   string_field_1,\n",
    "   string_field_2,\n",
    "   string_field_10,\n",
    "   string_field_19,\n",
    "   string_field_28\n",
    "FROM \n",
    "   project1.pets\n",
    "WHERE\n",
    "   string_field_0 = \"연령별\" AND\n",
    "   string_field_1 = \"30대\"\n",
    "\"\"\""
   ]
  },
  {
   "cell_type": "code",
   "execution_count": 31,
   "id": "f53fd4d0",
   "metadata": {},
   "outputs": [
    {
     "data": {
      "text/html": [
       "<div>\n",
       "<style scoped>\n",
       "    .dataframe tbody tr th:only-of-type {\n",
       "        vertical-align: middle;\n",
       "    }\n",
       "\n",
       "    .dataframe tbody tr th {\n",
       "        vertical-align: top;\n",
       "    }\n",
       "\n",
       "    .dataframe thead th {\n",
       "        text-align: right;\n",
       "    }\n",
       "</style>\n",
       "<table border=\"1\" class=\"dataframe\">\n",
       "  <thead>\n",
       "    <tr style=\"text-align: right;\">\n",
       "      <th></th>\n",
       "      <th>string_field_0</th>\n",
       "      <th>string_field_1</th>\n",
       "      <th>string_field_2</th>\n",
       "      <th>string_field_10</th>\n",
       "      <th>string_field_19</th>\n",
       "      <th>string_field_28</th>\n",
       "    </tr>\n",
       "  </thead>\n",
       "  <tbody>\n",
       "    <tr>\n",
       "      <th>0</th>\n",
       "      <td>연령별</td>\n",
       "      <td>30대</td>\n",
       "      <td>20.5</td>\n",
       "      <td>19.1</td>\n",
       "      <td>19.6</td>\n",
       "      <td>20.0</td>\n",
       "    </tr>\n",
       "  </tbody>\n",
       "</table>\n",
       "</div>"
      ],
      "text/plain": [
       "  string_field_0 string_field_1 string_field_2 string_field_10  \\\n",
       "0            연령별            30대           20.5            19.1   \n",
       "\n",
       "  string_field_19 string_field_28  \n",
       "0            19.6            20.0  "
      ]
     },
     "execution_count": 31,
     "metadata": {},
     "output_type": "execute_result"
    }
   ],
   "source": [
    "df = client.query(sql).to_dataframe()\n",
    "df"
   ]
  },
  {
   "cell_type": "code",
   "execution_count": null,
   "id": "2bf36755",
   "metadata": {},
   "outputs": [],
   "source": []
  },
  {
   "cell_type": "code",
   "execution_count": 32,
   "id": "8c0c8377",
   "metadata": {},
   "outputs": [],
   "source": [
    "# 3) 2019~2022 -> 연령별(20대 이하, 30대, 40대, 50대, 60세 이상) 40대 -> 반려동물 유무 -> 있다\n",
    "\n",
    "sql = \"\"\"\n",
    "SELECT  \n",
    "   string_field_0,\n",
    "   string_field_1,\n",
    "   string_field_2,\n",
    "   string_field_10,\n",
    "   string_field_19,\n",
    "   string_field_28\n",
    "FROM \n",
    "   project1.pets\n",
    "WHERE\n",
    "   string_field_0 = \"연령별\" AND\n",
    "   string_field_1 = \"40대\"\n",
    "\"\"\""
   ]
  },
  {
   "cell_type": "code",
   "execution_count": 33,
   "id": "37750d47",
   "metadata": {},
   "outputs": [
    {
     "data": {
      "text/html": [
       "<div>\n",
       "<style scoped>\n",
       "    .dataframe tbody tr th:only-of-type {\n",
       "        vertical-align: middle;\n",
       "    }\n",
       "\n",
       "    .dataframe tbody tr th {\n",
       "        vertical-align: top;\n",
       "    }\n",
       "\n",
       "    .dataframe thead th {\n",
       "        text-align: right;\n",
       "    }\n",
       "</style>\n",
       "<table border=\"1\" class=\"dataframe\">\n",
       "  <thead>\n",
       "    <tr style=\"text-align: right;\">\n",
       "      <th></th>\n",
       "      <th>string_field_0</th>\n",
       "      <th>string_field_1</th>\n",
       "      <th>string_field_2</th>\n",
       "      <th>string_field_10</th>\n",
       "      <th>string_field_19</th>\n",
       "      <th>string_field_28</th>\n",
       "    </tr>\n",
       "  </thead>\n",
       "  <tbody>\n",
       "    <tr>\n",
       "      <th>0</th>\n",
       "      <td>연령별</td>\n",
       "      <td>40대</td>\n",
       "      <td>19.6</td>\n",
       "      <td>21.9</td>\n",
       "      <td>20.3</td>\n",
       "      <td>24.2</td>\n",
       "    </tr>\n",
       "  </tbody>\n",
       "</table>\n",
       "</div>"
      ],
      "text/plain": [
       "  string_field_0 string_field_1 string_field_2 string_field_10  \\\n",
       "0            연령별            40대           19.6            21.9   \n",
       "\n",
       "  string_field_19 string_field_28  \n",
       "0            20.3            24.2  "
      ]
     },
     "execution_count": 33,
     "metadata": {},
     "output_type": "execute_result"
    }
   ],
   "source": [
    "df = client.query(sql).to_dataframe()\n",
    "df"
   ]
  },
  {
   "cell_type": "code",
   "execution_count": null,
   "id": "795f843c",
   "metadata": {},
   "outputs": [],
   "source": []
  },
  {
   "cell_type": "code",
   "execution_count": 34,
   "id": "74fc9eb0",
   "metadata": {},
   "outputs": [],
   "source": [
    "# 3) 2019~2022 -> 연령별(20대 이하, 30대, 40대, 50대, 60세 이상) 50대 -> 반려동물 유무 -> 있다\n",
    "\n",
    "sql = \"\"\"\n",
    "SELECT  \n",
    "   string_field_0,\n",
    "   string_field_1,\n",
    "   string_field_2,\n",
    "   string_field_10,\n",
    "   string_field_19,\n",
    "   string_field_28\n",
    "FROM \n",
    "   project1.pets\n",
    "WHERE\n",
    "   string_field_0 = \"연령별\" AND\n",
    "   string_field_1 = \"50대\"\n",
    "\"\"\""
   ]
  },
  {
   "cell_type": "code",
   "execution_count": 35,
   "id": "886534e5",
   "metadata": {},
   "outputs": [
    {
     "data": {
      "text/html": [
       "<div>\n",
       "<style scoped>\n",
       "    .dataframe tbody tr th:only-of-type {\n",
       "        vertical-align: middle;\n",
       "    }\n",
       "\n",
       "    .dataframe tbody tr th {\n",
       "        vertical-align: top;\n",
       "    }\n",
       "\n",
       "    .dataframe thead th {\n",
       "        text-align: right;\n",
       "    }\n",
       "</style>\n",
       "<table border=\"1\" class=\"dataframe\">\n",
       "  <thead>\n",
       "    <tr style=\"text-align: right;\">\n",
       "      <th></th>\n",
       "      <th>string_field_0</th>\n",
       "      <th>string_field_1</th>\n",
       "      <th>string_field_2</th>\n",
       "      <th>string_field_10</th>\n",
       "      <th>string_field_19</th>\n",
       "      <th>string_field_28</th>\n",
       "    </tr>\n",
       "  </thead>\n",
       "  <tbody>\n",
       "    <tr>\n",
       "      <th>0</th>\n",
       "      <td>연령별</td>\n",
       "      <td>50대</td>\n",
       "      <td>21.6</td>\n",
       "      <td>24.2</td>\n",
       "      <td>22.4</td>\n",
       "      <td>24.8</td>\n",
       "    </tr>\n",
       "  </tbody>\n",
       "</table>\n",
       "</div>"
      ],
      "text/plain": [
       "  string_field_0 string_field_1 string_field_2 string_field_10  \\\n",
       "0            연령별            50대           21.6            24.2   \n",
       "\n",
       "  string_field_19 string_field_28  \n",
       "0            22.4            24.8  "
      ]
     },
     "execution_count": 35,
     "metadata": {},
     "output_type": "execute_result"
    }
   ],
   "source": [
    "df = client.query(sql).to_dataframe()\n",
    "df"
   ]
  },
  {
   "cell_type": "code",
   "execution_count": null,
   "id": "74679de7",
   "metadata": {},
   "outputs": [],
   "source": []
  },
  {
   "cell_type": "code",
   "execution_count": 38,
   "id": "0003090d",
   "metadata": {},
   "outputs": [],
   "source": [
    "# 3) 2019~2022 -> 연령별(20대 이하, 30대, 40대, 50대, 60세 이상) 60세 이상 -> 반려동물 유무 -> 있다\n",
    "\n",
    "sql = \"\"\"\n",
    "SELECT  \n",
    "   string_field_0,\n",
    "   string_field_1,\n",
    "   string_field_2,\n",
    "   string_field_10,\n",
    "   string_field_19,\n",
    "   string_field_28\n",
    "FROM \n",
    "   project1.pets\n",
    "WHERE\n",
    "   string_field_0 = \"연령별\" AND\n",
    "   string_field_1 = \"60세 이상\"\n",
    "\"\"\""
   ]
  },
  {
   "cell_type": "code",
   "execution_count": 39,
   "id": "15bc6227",
   "metadata": {},
   "outputs": [
    {
     "data": {
      "text/html": [
       "<div>\n",
       "<style scoped>\n",
       "    .dataframe tbody tr th:only-of-type {\n",
       "        vertical-align: middle;\n",
       "    }\n",
       "\n",
       "    .dataframe tbody tr th {\n",
       "        vertical-align: top;\n",
       "    }\n",
       "\n",
       "    .dataframe thead th {\n",
       "        text-align: right;\n",
       "    }\n",
       "</style>\n",
       "<table border=\"1\" class=\"dataframe\">\n",
       "  <thead>\n",
       "    <tr style=\"text-align: right;\">\n",
       "      <th></th>\n",
       "      <th>string_field_0</th>\n",
       "      <th>string_field_1</th>\n",
       "      <th>string_field_2</th>\n",
       "      <th>string_field_10</th>\n",
       "      <th>string_field_19</th>\n",
       "      <th>string_field_28</th>\n",
       "    </tr>\n",
       "  </thead>\n",
       "  <tbody>\n",
       "    <tr>\n",
       "      <th>0</th>\n",
       "      <td>연령별</td>\n",
       "      <td>60세 이상</td>\n",
       "      <td>19.4</td>\n",
       "      <td>17.3</td>\n",
       "      <td>18.2</td>\n",
       "      <td>21.4</td>\n",
       "    </tr>\n",
       "  </tbody>\n",
       "</table>\n",
       "</div>"
      ],
      "text/plain": [
       "  string_field_0 string_field_1 string_field_2 string_field_10  \\\n",
       "0            연령별         60세 이상           19.4            17.3   \n",
       "\n",
       "  string_field_19 string_field_28  \n",
       "0            18.2            21.4  "
      ]
     },
     "execution_count": 39,
     "metadata": {},
     "output_type": "execute_result"
    }
   ],
   "source": [
    "df = client.query(sql).to_dataframe()\n",
    "df"
   ]
  },
  {
   "cell_type": "code",
   "execution_count": 45,
   "id": "67e1003e",
   "metadata": {},
   "outputs": [
    {
     "data": {
      "image/png": "[encoded data removed]",
      "text/plain": [
       "<Figure size 640x480 with 1 Axes>"
      ]
     },
     "metadata": {},
     "output_type": "display_data"
    }
   ],
   "source": [
    "# 3) 2019~2022 -> 연령별(20대 이하, 30대, 40대, 50대, 60세 이상) 20대 이하 -> 반려동물 유무 -> 있다\n",
    "# 3) 2019~2022 -> 연령별(20대 이하, 30대, 40대, 50대, 60세 이상) 30대 -> 반려동물 유무 -> 있다\n",
    "# 3) 2019~2022 -> 연령별(20대 이하, 30대, 40대, 50대, 60세 이상) 40대 -> 반려동물 유무 -> 있다\n",
    "# 3) 2019~2022 -> 연령별(20대 이하, 30대, 40대, 50대, 60세 이상) 50대 -> 반려동물 유무 -> 있다\n",
    "# 3) 2019~2022 -> 연령별(20대 이하, 30대, 40대, 50대, 60세 이상) 60세 이상 -> 반려동물 유무 -> 있다\n",
    "# 그래프 합치기\n",
    "\n",
    "import matplotlib.pyplot as plt\n",
    "\n",
    "# Data for the first line graph\n",
    "x_values1 = [2019, 2020, 2021, 2022]\n",
    "y_values1 = [20.4, 17.7, 16.3, 20.0]\n",
    "\n",
    "# Data for the second line graph\n",
    "x_values2 = [2019, 2020, 2021, 2022]\n",
    "y_values2 = [20.5, 19.1, 19.6, 20.0]\n",
    "\n",
    "# Data for the third line graph\n",
    "x_values3 = [2019, 2020, 2021, 2022]\n",
    "y_values3 = [19.6, 21.9, 20.3, 24.2]\n",
    "\n",
    "# Data for the fourth line graph\n",
    "x_values4 = [2019, 2020, 2021, 2022]\n",
    "y_values4 = [21.6, 24.2, 22.4, 24.8]\n",
    "\n",
    "# Data for the fifth line graph\n",
    "x_values5 = [2019, 2020, 2021, 2022]\n",
    "y_values5 = [19.4, 17.3, 18.2, 21.4]\n",
    "\n",
    "# Create five line graphs\n",
    "plt.plot(x_values1, y_values1, marker='o', linestyle='--', color='blue', label='under 20')\n",
    "plt.plot(x_values2, y_values2, marker='s', linestyle='--', color='green', label='30')\n",
    "plt.plot(x_values3, y_values3, marker='o', linestyle='-', color='yellow', label='40')\n",
    "plt.plot(x_values4, y_values4, marker='s', linestyle='--', color='orange', label='50')\n",
    "plt.plot(x_values5, y_values5, marker='o', linestyle='-', color='black', label='over 60')\n",
    "\n",
    "# Adding labels and title\n",
    "plt.xlabel('Years')\n",
    "plt.ylabel('Values(%)')\n",
    "plt.title('Different ages, \"have pet(s)\"')\n",
    "\n",
    "# Adding a legend\n",
    "plt.legend()\n",
    "\n",
    "# Display the line graphs\n",
    "plt.show()"
   ]
  },
  {
   "cell_type": "code",
   "execution_count": 50,
   "id": "577ebb65",
   "metadata": {},
   "outputs": [],
   "source": [
    "# 4) 2019~2022 -> 주택형태(단독주택, 아파트, 다세대주택, 연립/기타) 단독주택 -> 반려동물 유무 -> 있다\n",
    "\n",
    "sql = \"\"\"\n",
    "SELECT  \n",
    "   string_field_0,\n",
    "   string_field_1,\n",
    "   string_field_2,\n",
    "   string_field_10,\n",
    "   string_field_19,\n",
    "   string_field_28\n",
    "FROM \n",
    "   project1.pets\n",
    "WHERE\n",
    "   string_field_0 = \"주택형태\" AND\n",
    "   string_field_1 = \"단독주택\"\n",
    "\"\"\""
   ]
  },
  {
   "cell_type": "code",
   "execution_count": 51,
   "id": "e9e7851b",
   "metadata": {},
   "outputs": [
    {
     "data": {
      "text/html": [
       "<div>\n",
       "<style scoped>\n",
       "    .dataframe tbody tr th:only-of-type {\n",
       "        vertical-align: middle;\n",
       "    }\n",
       "\n",
       "    .dataframe tbody tr th {\n",
       "        vertical-align: top;\n",
       "    }\n",
       "\n",
       "    .dataframe thead th {\n",
       "        text-align: right;\n",
       "    }\n",
       "</style>\n",
       "<table border=\"1\" class=\"dataframe\">\n",
       "  <thead>\n",
       "    <tr style=\"text-align: right;\">\n",
       "      <th></th>\n",
       "      <th>string_field_0</th>\n",
       "      <th>string_field_1</th>\n",
       "      <th>string_field_2</th>\n",
       "      <th>string_field_10</th>\n",
       "      <th>string_field_19</th>\n",
       "      <th>string_field_28</th>\n",
       "    </tr>\n",
       "  </thead>\n",
       "  <tbody>\n",
       "    <tr>\n",
       "      <th>0</th>\n",
       "      <td>주택형태</td>\n",
       "      <td>단독주택</td>\n",
       "      <td>20.7</td>\n",
       "      <td>19.7</td>\n",
       "      <td>19.1</td>\n",
       "      <td>19.5</td>\n",
       "    </tr>\n",
       "  </tbody>\n",
       "</table>\n",
       "</div>"
      ],
      "text/plain": [
       "  string_field_0 string_field_1 string_field_2 string_field_10  \\\n",
       "0           주택형태           단독주택           20.7            19.7   \n",
       "\n",
       "  string_field_19 string_field_28  \n",
       "0            19.1            19.5  "
      ]
     },
     "execution_count": 51,
     "metadata": {},
     "output_type": "execute_result"
    }
   ],
   "source": [
    "df = client.query(sql).to_dataframe()\n",
    "df"
   ]
  },
  {
   "cell_type": "code",
   "execution_count": null,
   "id": "664f8213",
   "metadata": {},
   "outputs": [],
   "source": []
  },
  {
   "cell_type": "code",
   "execution_count": 52,
   "id": "0b975513",
   "metadata": {},
   "outputs": [],
   "source": [
    "# 4) 2019~2022 -> 주택형태(단독주택, 아파트, 다세대주택, 연립/기타) 아파트 -> 반려동물 유무 -> 있다\n",
    "\n",
    "sql = \"\"\"\n",
    "SELECT  \n",
    "   string_field_0,\n",
    "   string_field_1,\n",
    "   string_field_2,\n",
    "   string_field_10,\n",
    "   string_field_19,\n",
    "   string_field_28\n",
    "FROM \n",
    "   project1.pets\n",
    "WHERE\n",
    "   string_field_0 = \"주택형태\" AND\n",
    "   string_field_1 = \"아파트\"\n",
    "\"\"\""
   ]
  },
  {
   "cell_type": "code",
   "execution_count": 53,
   "id": "9e1fc911",
   "metadata": {},
   "outputs": [
    {
     "data": {
      "text/html": [
       "<div>\n",
       "<style scoped>\n",
       "    .dataframe tbody tr th:only-of-type {\n",
       "        vertical-align: middle;\n",
       "    }\n",
       "\n",
       "    .dataframe tbody tr th {\n",
       "        vertical-align: top;\n",
       "    }\n",
       "\n",
       "    .dataframe thead th {\n",
       "        text-align: right;\n",
       "    }\n",
       "</style>\n",
       "<table border=\"1\" class=\"dataframe\">\n",
       "  <thead>\n",
       "    <tr style=\"text-align: right;\">\n",
       "      <th></th>\n",
       "      <th>string_field_0</th>\n",
       "      <th>string_field_1</th>\n",
       "      <th>string_field_2</th>\n",
       "      <th>string_field_10</th>\n",
       "      <th>string_field_19</th>\n",
       "      <th>string_field_28</th>\n",
       "    </tr>\n",
       "  </thead>\n",
       "  <tbody>\n",
       "    <tr>\n",
       "      <th>0</th>\n",
       "      <td>주택형태</td>\n",
       "      <td>아파트</td>\n",
       "      <td>22.2</td>\n",
       "      <td>20.7</td>\n",
       "      <td>20.9</td>\n",
       "      <td>25.5</td>\n",
       "    </tr>\n",
       "  </tbody>\n",
       "</table>\n",
       "</div>"
      ],
      "text/plain": [
       "  string_field_0 string_field_1 string_field_2 string_field_10  \\\n",
       "0           주택형태            아파트           22.2            20.7   \n",
       "\n",
       "  string_field_19 string_field_28  \n",
       "0            20.9            25.5  "
      ]
     },
     "execution_count": 53,
     "metadata": {},
     "output_type": "execute_result"
    }
   ],
   "source": [
    "df = client.query(sql).to_dataframe()\n",
    "df"
   ]
  },
  {
   "cell_type": "code",
   "execution_count": null,
   "id": "67ef7bd2",
   "metadata": {},
   "outputs": [],
   "source": []
  },
  {
   "cell_type": "code",
   "execution_count": 54,
   "id": "7a864dec",
   "metadata": {},
   "outputs": [],
   "source": [
    "# 4) 2019~2022 -> 주택형태(단독주택, 아파트, 다세대주택, 연립/기타) 다세대주택 -> 반려동물 유무 -> 있다\n",
    "\n",
    "sql = \"\"\"\n",
    "SELECT  \n",
    "   string_field_0,\n",
    "   string_field_1,\n",
    "   string_field_2,\n",
    "   string_field_10,\n",
    "   string_field_19,\n",
    "   string_field_28\n",
    "FROM \n",
    "   project1.pets\n",
    "WHERE\n",
    "   string_field_0 = \"주택형태\" AND\n",
    "   string_field_1 = \"다세대주택\"\n",
    "\"\"\""
   ]
  },
  {
   "cell_type": "code",
   "execution_count": 55,
   "id": "240a4fbe",
   "metadata": {},
   "outputs": [
    {
     "data": {
      "text/html": [
       "<div>\n",
       "<style scoped>\n",
       "    .dataframe tbody tr th:only-of-type {\n",
       "        vertical-align: middle;\n",
       "    }\n",
       "\n",
       "    .dataframe tbody tr th {\n",
       "        vertical-align: top;\n",
       "    }\n",
       "\n",
       "    .dataframe thead th {\n",
       "        text-align: right;\n",
       "    }\n",
       "</style>\n",
       "<table border=\"1\" class=\"dataframe\">\n",
       "  <thead>\n",
       "    <tr style=\"text-align: right;\">\n",
       "      <th></th>\n",
       "      <th>string_field_0</th>\n",
       "      <th>string_field_1</th>\n",
       "      <th>string_field_2</th>\n",
       "      <th>string_field_10</th>\n",
       "      <th>string_field_19</th>\n",
       "      <th>string_field_28</th>\n",
       "    </tr>\n",
       "  </thead>\n",
       "  <tbody>\n",
       "    <tr>\n",
       "      <th>0</th>\n",
       "      <td>주택형태</td>\n",
       "      <td>다세대주택</td>\n",
       "      <td>17.2</td>\n",
       "      <td>19.3</td>\n",
       "      <td>18.0</td>\n",
       "      <td>20.5</td>\n",
       "    </tr>\n",
       "  </tbody>\n",
       "</table>\n",
       "</div>"
      ],
      "text/plain": [
       "  string_field_0 string_field_1 string_field_2 string_field_10  \\\n",
       "0           주택형태          다세대주택           17.2            19.3   \n",
       "\n",
       "  string_field_19 string_field_28  \n",
       "0            18.0            20.5  "
      ]
     },
     "execution_count": 55,
     "metadata": {},
     "output_type": "execute_result"
    }
   ],
   "source": [
    "df = client.query(sql).to_dataframe()\n",
    "df"
   ]
  },
  {
   "cell_type": "code",
   "execution_count": null,
   "id": "e17071d8",
   "metadata": {},
   "outputs": [],
   "source": []
  },
  {
   "cell_type": "code",
   "execution_count": 56,
   "id": "b25bf920",
   "metadata": {},
   "outputs": [],
   "source": [
    "# 4) 2019~2022 -> 주택형태(단독주택, 아파트, 다세대주택, 연립/기타) 연립/기타 -> 반려동물 유무 -> 있다\n",
    "\n",
    "sql = \"\"\"\n",
    "SELECT  \n",
    "   string_field_0,\n",
    "   string_field_1,\n",
    "   string_field_2,\n",
    "   string_field_10,\n",
    "   string_field_19,\n",
    "   string_field_28\n",
    "FROM \n",
    "   project1.pets\n",
    "WHERE\n",
    "   string_field_0 = \"주택형태\" AND\n",
    "   string_field_1 = \"연립/기타\"\n",
    "\"\"\""
   ]
  },
  {
   "cell_type": "code",
   "execution_count": 57,
   "id": "5023de1f",
   "metadata": {},
   "outputs": [
    {
     "data": {
      "text/html": [
       "<div>\n",
       "<style scoped>\n",
       "    .dataframe tbody tr th:only-of-type {\n",
       "        vertical-align: middle;\n",
       "    }\n",
       "\n",
       "    .dataframe tbody tr th {\n",
       "        vertical-align: top;\n",
       "    }\n",
       "\n",
       "    .dataframe thead th {\n",
       "        text-align: right;\n",
       "    }\n",
       "</style>\n",
       "<table border=\"1\" class=\"dataframe\">\n",
       "  <thead>\n",
       "    <tr style=\"text-align: right;\">\n",
       "      <th></th>\n",
       "      <th>string_field_0</th>\n",
       "      <th>string_field_1</th>\n",
       "      <th>string_field_2</th>\n",
       "      <th>string_field_10</th>\n",
       "      <th>string_field_19</th>\n",
       "      <th>string_field_28</th>\n",
       "    </tr>\n",
       "  </thead>\n",
       "  <tbody>\n",
       "    <tr>\n",
       "      <th>0</th>\n",
       "      <td>주택형태</td>\n",
       "      <td>연립/기타</td>\n",
       "      <td>16.0</td>\n",
       "      <td>19.3</td>\n",
       "      <td>18.5</td>\n",
       "      <td>19.1</td>\n",
       "    </tr>\n",
       "  </tbody>\n",
       "</table>\n",
       "</div>"
      ],
      "text/plain": [
       "  string_field_0 string_field_1 string_field_2 string_field_10  \\\n",
       "0           주택형태          연립/기타           16.0            19.3   \n",
       "\n",
       "  string_field_19 string_field_28  \n",
       "0            18.5            19.1  "
      ]
     },
     "execution_count": 57,
     "metadata": {},
     "output_type": "execute_result"
    }
   ],
   "source": [
    "df = client.query(sql).to_dataframe()\n",
    "df"
   ]
  },
  {
   "cell_type": "code",
   "execution_count": 63,
   "id": "932088f3",
   "metadata": {},
   "outputs": [
    {
     "data": {
      "image/png": "[encoded data removed]",
      "text/plain": [
       "<Figure size 640x480 with 1 Axes>"
      ]
     },
     "metadata": {},
     "output_type": "display_data"
    }
   ],
   "source": [
    "# 4) 2019~2022 -> 주택형태(단독주택, 아파트, 다세대주택, 연립/기타) 단독주택 -> 반려동물 유무 -> 있다\n",
    "# 4) 2019~2022 -> 주택형태(단독주택, 아파트, 다세대주택, 연립/기타) 아파트 -> 반려동물 유무 -> 있다\n",
    "# 4) 2019~2022 -> 주택형태(단독주택, 아파트, 다세대주택, 연립/기타) 다세대주택 -> 반려동물 유무 -> 있다\n",
    "# 4) 2019~2022 -> 주택형태(단독주택, 아파트, 다세대주택, 연립/기타) 연립/기타 -> 반려동물 유무 -> 있다\n",
    "# 그래프 합치기\n",
    "\n",
    "import matplotlib.pyplot as plt\n",
    "\n",
    "# Data for the first line graph\n",
    "x_values1 = [2019, 2020, 2021, 2022]\n",
    "y_values1 = [20.7, 19.7, 19.1, 19.5]\n",
    "\n",
    "# Data for the second line graph\n",
    "x_values2 = [2019, 2020, 2021, 2022]\n",
    "y_values2 = [22.2, 20.7, 20.9, 25.5]\n",
    "\n",
    "# Data for the third line graph\n",
    "x_values3 = [2019, 2020, 2021, 2022]\n",
    "y_values3 = [17.2, 19.3, 18.0, 20.5]\n",
    "\n",
    "# Data for the fourth line graph\n",
    "x_values4 = [2019, 2020, 2021, 2022]\n",
    "y_values4 = [16.0, 19.3, 18.5, 19.1]\n",
    "\n",
    "# font_path = \n",
    "\n",
    "# Create four line graphs\n",
    "plt.plot(x_values1, y_values1, marker='o', linestyle='-', color='blue', label='detached')\n",
    "plt.plot(x_values2, y_values2, marker='s', linestyle='--', color='green', label='apartment')\n",
    "plt.plot(x_values3, y_values3, marker='o', linestyle='-', color='yellow', label='multiplex')\n",
    "plt.plot(x_values4, y_values4, marker='s', linestyle='--', color='orange', label='others')\n",
    "\n",
    "# Adding labels and title\n",
    "plt.xlabel('Years')\n",
    "plt.ylabel('Values(%)')\n",
    "plt.title('Different house types, \"have pet(s)\"')\n",
    "\n",
    "# Adding a legend\n",
    "plt.legend()\n",
    "\n",
    "# Display the line graphs\n",
    "plt.show()"
   ]
  },
  {
   "cell_type": "code",
   "execution_count": 64,
   "id": "85e64d91",
   "metadata": {},
   "outputs": [],
   "source": [
    "# 5) 2019~2022 -> 가구원수(1인, 2인, 3인, 4인, 5인 이상) 1인 -> 반려동물 유무 -> 있다\n",
    "\n",
    "sql = \"\"\"\n",
    "SELECT  \n",
    "   string_field_0,\n",
    "   string_field_1,\n",
    "   string_field_2,\n",
    "   string_field_10,\n",
    "   string_field_19,\n",
    "   string_field_28\n",
    "FROM \n",
    "   project1.pets\n",
    "WHERE\n",
    "   string_field_0 = \"가구원수\" AND\n",
    "   string_field_1 = \"1인\"\n",
    "\"\"\""
   ]
  },
  {
   "cell_type": "code",
   "execution_count": 65,
   "id": "1f15f1f7",
   "metadata": {},
   "outputs": [
    {
     "data": {
      "text/html": [
       "<div>\n",
       "<style scoped>\n",
       "    .dataframe tbody tr th:only-of-type {\n",
       "        vertical-align: middle;\n",
       "    }\n",
       "\n",
       "    .dataframe tbody tr th {\n",
       "        vertical-align: top;\n",
       "    }\n",
       "\n",
       "    .dataframe thead th {\n",
       "        text-align: right;\n",
       "    }\n",
       "</style>\n",
       "<table border=\"1\" class=\"dataframe\">\n",
       "  <thead>\n",
       "    <tr style=\"text-align: right;\">\n",
       "      <th></th>\n",
       "      <th>string_field_0</th>\n",
       "      <th>string_field_1</th>\n",
       "      <th>string_field_2</th>\n",
       "      <th>string_field_10</th>\n",
       "      <th>string_field_19</th>\n",
       "      <th>string_field_28</th>\n",
       "    </tr>\n",
       "  </thead>\n",
       "  <tbody>\n",
       "    <tr>\n",
       "      <th>0</th>\n",
       "      <td>가구원수</td>\n",
       "      <td>1인</td>\n",
       "      <td>19.9</td>\n",
       "      <td>15.5</td>\n",
       "      <td>14.7</td>\n",
       "      <td>18.2</td>\n",
       "    </tr>\n",
       "  </tbody>\n",
       "</table>\n",
       "</div>"
      ],
      "text/plain": [
       "  string_field_0 string_field_1 string_field_2 string_field_10  \\\n",
       "0           가구원수             1인           19.9            15.5   \n",
       "\n",
       "  string_field_19 string_field_28  \n",
       "0            14.7            18.2  "
      ]
     },
     "execution_count": 65,
     "metadata": {},
     "output_type": "execute_result"
    }
   ],
   "source": [
    "df = client.query(sql).to_dataframe()\n",
    "df"
   ]
  },
  {
   "cell_type": "code",
   "execution_count": null,
   "id": "f82d8e85",
   "metadata": {},
   "outputs": [],
   "source": []
  },
  {
   "cell_type": "code",
   "execution_count": 66,
   "id": "fde38fbf",
   "metadata": {},
   "outputs": [],
   "source": [
    "# 5) 2019~2022 -> 가구원수(1인, 2인, 3인, 4인, 5인 이상) 2인 -> 반려동물 유무 -> 있다\n",
    "\n",
    "sql = \"\"\"\n",
    "SELECT  \n",
    "   string_field_0,\n",
    "   string_field_1,\n",
    "   string_field_2,\n",
    "   string_field_10,\n",
    "   string_field_19,\n",
    "   string_field_28\n",
    "FROM \n",
    "   project1.pets\n",
    "WHERE\n",
    "   string_field_0 = \"가구원수\" AND\n",
    "   string_field_1 = \"2인\"\n",
    "\"\"\""
   ]
  },
  {
   "cell_type": "code",
   "execution_count": 67,
   "id": "a7dfa74e",
   "metadata": {},
   "outputs": [
    {
     "data": {
      "text/html": [
       "<div>\n",
       "<style scoped>\n",
       "    .dataframe tbody tr th:only-of-type {\n",
       "        vertical-align: middle;\n",
       "    }\n",
       "\n",
       "    .dataframe tbody tr th {\n",
       "        vertical-align: top;\n",
       "    }\n",
       "\n",
       "    .dataframe thead th {\n",
       "        text-align: right;\n",
       "    }\n",
       "</style>\n",
       "<table border=\"1\" class=\"dataframe\">\n",
       "  <thead>\n",
       "    <tr style=\"text-align: right;\">\n",
       "      <th></th>\n",
       "      <th>string_field_0</th>\n",
       "      <th>string_field_1</th>\n",
       "      <th>string_field_2</th>\n",
       "      <th>string_field_10</th>\n",
       "      <th>string_field_19</th>\n",
       "      <th>string_field_28</th>\n",
       "    </tr>\n",
       "  </thead>\n",
       "  <tbody>\n",
       "    <tr>\n",
       "      <th>0</th>\n",
       "      <td>가구원수</td>\n",
       "      <td>2인</td>\n",
       "      <td>22.3</td>\n",
       "      <td>20.7</td>\n",
       "      <td>21.3</td>\n",
       "      <td>25.3</td>\n",
       "    </tr>\n",
       "  </tbody>\n",
       "</table>\n",
       "</div>"
      ],
      "text/plain": [
       "  string_field_0 string_field_1 string_field_2 string_field_10  \\\n",
       "0           가구원수             2인           22.3            20.7   \n",
       "\n",
       "  string_field_19 string_field_28  \n",
       "0            21.3            25.3  "
      ]
     },
     "execution_count": 67,
     "metadata": {},
     "output_type": "execute_result"
    }
   ],
   "source": [
    "df = client.query(sql).to_dataframe()\n",
    "df"
   ]
  },
  {
   "cell_type": "code",
   "execution_count": null,
   "id": "274b4744",
   "metadata": {},
   "outputs": [],
   "source": []
  },
  {
   "cell_type": "code",
   "execution_count": 74,
   "id": "5bc83deb",
   "metadata": {},
   "outputs": [],
   "source": [
    "# 5) 2019~2022 -> 가구원수(1인, 2인, 3인, 4인, 5인 이상) 3인 -> 반려동물 유무 -> 있다\n",
    "\n",
    "sql = \"\"\"\n",
    "SELECT  \n",
    "   string_field_0,\n",
    "   string_field_1,\n",
    "   string_field_2,\n",
    "   string_field_10,\n",
    "   string_field_19,\n",
    "   string_field_28\n",
    "FROM \n",
    "   project1.pets\n",
    "WHERE\n",
    "   string_field_0 = \"가구원수\" AND\n",
    "   string_field_1 = \"3인\"\n",
    "\"\"\""
   ]
  },
  {
   "cell_type": "code",
   "execution_count": 75,
   "id": "9c432e83",
   "metadata": {},
   "outputs": [
    {
     "data": {
      "text/html": [
       "<div>\n",
       "<style scoped>\n",
       "    .dataframe tbody tr th:only-of-type {\n",
       "        vertical-align: middle;\n",
       "    }\n",
       "\n",
       "    .dataframe tbody tr th {\n",
       "        vertical-align: top;\n",
       "    }\n",
       "\n",
       "    .dataframe thead th {\n",
       "        text-align: right;\n",
       "    }\n",
       "</style>\n",
       "<table border=\"1\" class=\"dataframe\">\n",
       "  <thead>\n",
       "    <tr style=\"text-align: right;\">\n",
       "      <th></th>\n",
       "      <th>string_field_0</th>\n",
       "      <th>string_field_1</th>\n",
       "      <th>string_field_2</th>\n",
       "      <th>string_field_10</th>\n",
       "      <th>string_field_19</th>\n",
       "      <th>string_field_28</th>\n",
       "    </tr>\n",
       "  </thead>\n",
       "  <tbody>\n",
       "    <tr>\n",
       "      <th>0</th>\n",
       "      <td>가구원수</td>\n",
       "      <td>3인</td>\n",
       "      <td>19.7</td>\n",
       "      <td>21.4</td>\n",
       "      <td>21.9</td>\n",
       "      <td>25.4</td>\n",
       "    </tr>\n",
       "  </tbody>\n",
       "</table>\n",
       "</div>"
      ],
      "text/plain": [
       "  string_field_0 string_field_1 string_field_2 string_field_10  \\\n",
       "0           가구원수             3인           19.7            21.4   \n",
       "\n",
       "  string_field_19 string_field_28  \n",
       "0            21.9            25.4  "
      ]
     },
     "execution_count": 75,
     "metadata": {},
     "output_type": "execute_result"
    }
   ],
   "source": [
    "df = client.query(sql).to_dataframe()\n",
    "df"
   ]
  },
  {
   "cell_type": "code",
   "execution_count": null,
   "id": "49240f44",
   "metadata": {},
   "outputs": [],
   "source": []
  },
  {
   "cell_type": "code",
   "execution_count": 76,
   "id": "e6389144",
   "metadata": {},
   "outputs": [],
   "source": [
    "# 5) 2019~2022 -> 가구원수(1인, 2인, 3인, 4인, 5인 이상) 4인 -> 반려동물 유무 -> 있다\n",
    "\n",
    "sql = \"\"\"\n",
    "SELECT  \n",
    "   string_field_0,\n",
    "   string_field_1,\n",
    "   string_field_2,\n",
    "   string_field_10,\n",
    "   string_field_19,\n",
    "   string_field_28\n",
    "FROM \n",
    "   project1.pets\n",
    "WHERE\n",
    "   string_field_0 = \"가구원수\" AND\n",
    "   string_field_1 = \"4인\"\n",
    "\"\"\""
   ]
  },
  {
   "cell_type": "code",
   "execution_count": 77,
   "id": "60cbc2ee",
   "metadata": {},
   "outputs": [
    {
     "data": {
      "text/html": [
       "<div>\n",
       "<style scoped>\n",
       "    .dataframe tbody tr th:only-of-type {\n",
       "        vertical-align: middle;\n",
       "    }\n",
       "\n",
       "    .dataframe tbody tr th {\n",
       "        vertical-align: top;\n",
       "    }\n",
       "\n",
       "    .dataframe thead th {\n",
       "        text-align: right;\n",
       "    }\n",
       "</style>\n",
       "<table border=\"1\" class=\"dataframe\">\n",
       "  <thead>\n",
       "    <tr style=\"text-align: right;\">\n",
       "      <th></th>\n",
       "      <th>string_field_0</th>\n",
       "      <th>string_field_1</th>\n",
       "      <th>string_field_2</th>\n",
       "      <th>string_field_10</th>\n",
       "      <th>string_field_19</th>\n",
       "      <th>string_field_28</th>\n",
       "    </tr>\n",
       "  </thead>\n",
       "  <tbody>\n",
       "    <tr>\n",
       "      <th>0</th>\n",
       "      <td>가구원수</td>\n",
       "      <td>4인</td>\n",
       "      <td>18.0</td>\n",
       "      <td>23.2</td>\n",
       "      <td>23.3</td>\n",
       "      <td>22.8</td>\n",
       "    </tr>\n",
       "  </tbody>\n",
       "</table>\n",
       "</div>"
      ],
      "text/plain": [
       "  string_field_0 string_field_1 string_field_2 string_field_10  \\\n",
       "0           가구원수             4인           18.0            23.2   \n",
       "\n",
       "  string_field_19 string_field_28  \n",
       "0            23.3            22.8  "
      ]
     },
     "execution_count": 77,
     "metadata": {},
     "output_type": "execute_result"
    }
   ],
   "source": [
    "df = client.query(sql).to_dataframe()\n",
    "df"
   ]
  },
  {
   "cell_type": "code",
   "execution_count": null,
   "id": "0a440f68",
   "metadata": {},
   "outputs": [],
   "source": []
  },
  {
   "cell_type": "code",
   "execution_count": 82,
   "id": "4f7b8b9d",
   "metadata": {},
   "outputs": [],
   "source": [
    "# 5) 2019~2022 -> 가구원수(1인, 2인, 3인, 4인, 5인이상) 5인이상 -> 반려동물 유무 -> 있다\n",
    "\n",
    "sql = \"\"\"\n",
    "SELECT  \n",
    "   string_field_0,\n",
    "   string_field_1,\n",
    "   string_field_2,\n",
    "   string_field_10,\n",
    "   string_field_19,\n",
    "   string_field_28\n",
    "FROM \n",
    "   project1.pets\n",
    "WHERE\n",
    "   string_field_0 = \"가구원수\" AND\n",
    "   string_field_1 = \"5인이상\"\n",
    "\"\"\""
   ]
  },
  {
   "cell_type": "code",
   "execution_count": 83,
   "id": "00585ad1",
   "metadata": {},
   "outputs": [
    {
     "data": {
      "text/html": [
       "<div>\n",
       "<style scoped>\n",
       "    .dataframe tbody tr th:only-of-type {\n",
       "        vertical-align: middle;\n",
       "    }\n",
       "\n",
       "    .dataframe tbody tr th {\n",
       "        vertical-align: top;\n",
       "    }\n",
       "\n",
       "    .dataframe thead th {\n",
       "        text-align: right;\n",
       "    }\n",
       "</style>\n",
       "<table border=\"1\" class=\"dataframe\">\n",
       "  <thead>\n",
       "    <tr style=\"text-align: right;\">\n",
       "      <th></th>\n",
       "      <th>string_field_0</th>\n",
       "      <th>string_field_1</th>\n",
       "      <th>string_field_2</th>\n",
       "      <th>string_field_10</th>\n",
       "      <th>string_field_19</th>\n",
       "      <th>string_field_28</th>\n",
       "    </tr>\n",
       "  </thead>\n",
       "  <tbody>\n",
       "    <tr>\n",
       "      <th>0</th>\n",
       "      <td>가구원수</td>\n",
       "      <td>5인이상</td>\n",
       "      <td>19.7</td>\n",
       "      <td>31.5</td>\n",
       "      <td>26.6</td>\n",
       "      <td>20.8</td>\n",
       "    </tr>\n",
       "  </tbody>\n",
       "</table>\n",
       "</div>"
      ],
      "text/plain": [
       "  string_field_0 string_field_1 string_field_2 string_field_10  \\\n",
       "0           가구원수           5인이상           19.7            31.5   \n",
       "\n",
       "  string_field_19 string_field_28  \n",
       "0            26.6            20.8  "
      ]
     },
     "execution_count": 83,
     "metadata": {},
     "output_type": "execute_result"
    }
   ],
   "source": [
    "df = client.query(sql).to_dataframe()\n",
    "df"
   ]
  },
  {
   "cell_type": "code",
   "execution_count": null,
   "id": "5b5e50b4",
   "metadata": {},
   "outputs": [],
   "source": []
  },
  {
   "cell_type": "code",
   "execution_count": 85,
   "id": "2a4dca66",
   "metadata": {},
   "outputs": [
    {
     "data": {
      "image/png": "[encoded data removed]",
      "text/plain": [
       "<Figure size 640x480 with 1 Axes>"
      ]
     },
     "metadata": {},
     "output_type": "display_data"
    }
   ],
   "source": [
    "# 5) 2019~2022 -> 가구원수(1인, 2인, 3인, 4인, 5인 이상) 1인 -> 반려동물 유무 -> 있다\n",
    "# 5) 2019~2022 -> 가구원수(1인, 2인, 3인, 4인, 5인 이상) 2인 -> 반려동물 유무 -> 있다\n",
    "# 5) 2019~2022 -> 가구원수(1인, 2인, 3인, 4인, 5인 이상) 3인 -> 반려동물 유무 -> 있다\n",
    "# 5) 2019~2022 -> 가구원수(1인, 2인, 3인, 4인, 5인 이상) 4인 -> 반려동물 유무 -> 있다\n",
    "# 5) 2019~2022 -> 가구원수(1인, 2인, 3인, 4인, 5인이상) 5인이상 -> 반려동물 유무 -> 있다\n",
    "# 그래프 합치기\n",
    "\n",
    "import matplotlib.pyplot as plt\n",
    "\n",
    "# Data for the first line graph\n",
    "x_values1 = [2019, 2020, 2021, 2022]\n",
    "y_values1 = [19.9, 15.5, 14.7, 18.2]\n",
    "\n",
    "# Data for the second line graph\n",
    "x_values2 = [2019, 2020, 2021, 2022]\n",
    "y_values2 = [22.3, 20.7, 21.3, 25.3]\n",
    "\n",
    "# Data for the third line graph\n",
    "x_values3 = [2019, 2020, 2021, 2022]\n",
    "y_values3 = [19.7, 21.4, 21.9, 25.4]\n",
    "\n",
    "# Data for the fourth line graph\n",
    "x_values4 = [2019, 2020, 2021, 2022]\n",
    "y_values4 = [18.0, 23.2, 23.3, 22.8]\n",
    "\n",
    "# Data for the fifth line graph\n",
    "x_values5 = [2019, 2020, 2021, 2022]\n",
    "y_values5 = [19.7, 31.5, 26.6, 20.8]\n",
    "\n",
    "# Create five line graphs\n",
    "plt.plot(x_values1, y_values1, marker='o', linestyle='--', color='blue', label='single')\n",
    "plt.plot(x_values2, y_values2, marker='s', linestyle='--', color='green', label='2 person')\n",
    "plt.plot(x_values3, y_values3, marker='o', linestyle='-', color='yellow', label='3 person')\n",
    "plt.plot(x_values4, y_values4, marker='s', linestyle='--', color='orange', label='4 person')\n",
    "plt.plot(x_values5, y_values5, marker='o', linestyle='-', color='black', label='over 5 person')\n",
    "\n",
    "# Adding labels and title\n",
    "plt.xlabel('Years')\n",
    "plt.ylabel('Values(%)')\n",
    "plt.title('Different household members, \"have pet(s)\"')\n",
    "\n",
    "# Adding a legend\n",
    "plt.legend()\n",
    "\n",
    "# Display the line graphs\n",
    "plt.show()"
   ]
  },
  {
   "cell_type": "code",
   "execution_count": 87,
   "id": "78a22201",
   "metadata": {},
   "outputs": [],
   "source": [
    "# 6) 2019~2022 -> 서울시 반려동물 입양 경로(동물판매업소(애견판매업소 동물병원 등)\n",
    "\n",
    "sql = \"\"\"\n",
    "SELECT  \n",
    "   string_field_0,\n",
    "   string_field_1,\n",
    "   string_field_4,\n",
    "   string_field_12,\n",
    "   string_field_21,\n",
    "   string_field_30\n",
    "FROM \n",
    "   project1.pets\n",
    "WHERE\n",
    "   string_field_0 = \"서울시\" AND\n",
    "   string_field_1 = \"소계\"\n",
    "\"\"\""
   ]
  },
  {
   "cell_type": "code",
   "execution_count": 88,
   "id": "d849700c",
   "metadata": {},
   "outputs": [
    {
     "data": {
      "text/html": [
       "<div>\n",
       "<style scoped>\n",
       "    .dataframe tbody tr th:only-of-type {\n",
       "        vertical-align: middle;\n",
       "    }\n",
       "\n",
       "    .dataframe tbody tr th {\n",
       "        vertical-align: top;\n",
       "    }\n",
       "\n",
       "    .dataframe thead th {\n",
       "        text-align: right;\n",
       "    }\n",
       "</style>\n",
       "<table border=\"1\" class=\"dataframe\">\n",
       "  <thead>\n",
       "    <tr style=\"text-align: right;\">\n",
       "      <th></th>\n",
       "      <th>string_field_0</th>\n",
       "      <th>string_field_1</th>\n",
       "      <th>string_field_4</th>\n",
       "      <th>string_field_12</th>\n",
       "      <th>string_field_21</th>\n",
       "      <th>string_field_30</th>\n",
       "    </tr>\n",
       "  </thead>\n",
       "  <tbody>\n",
       "    <tr>\n",
       "      <th>0</th>\n",
       "      <td>서울시</td>\n",
       "      <td>소계</td>\n",
       "      <td>25.1</td>\n",
       "      <td>23.7</td>\n",
       "      <td>25.7</td>\n",
       "      <td>22.9</td>\n",
       "    </tr>\n",
       "  </tbody>\n",
       "</table>\n",
       "</div>"
      ],
      "text/plain": [
       "  string_field_0 string_field_1 string_field_4 string_field_12  \\\n",
       "0            서울시             소계           25.1            23.7   \n",
       "\n",
       "  string_field_21 string_field_30  \n",
       "0            25.7            22.9  "
      ]
     },
     "execution_count": 88,
     "metadata": {},
     "output_type": "execute_result"
    }
   ],
   "source": [
    "df = client.query(sql).to_dataframe()\n",
    "df"
   ]
  },
  {
   "cell_type": "code",
   "execution_count": null,
   "id": "f962da19",
   "metadata": {},
   "outputs": [],
   "source": []
  },
  {
   "cell_type": "code",
   "execution_count": 89,
   "id": "de184f7f",
   "metadata": {},
   "outputs": [],
   "source": [
    "# 6) 2019~2022 -> 서울시 반려동물 입양 경로(친지 친구 등 아는 사람을 통해 유상 입양)\n",
    "\n",
    "sql = \"\"\"\n",
    "SELECT  \n",
    "   string_field_0,\n",
    "   string_field_1,\n",
    "   string_field_5,\n",
    "   string_field_13,\n",
    "   string_field_22,\n",
    "   string_field_31\n",
    "FROM \n",
    "   project1.pets\n",
    "WHERE\n",
    "   string_field_0 = \"서울시\" AND\n",
    "   string_field_1 = \"소계\"\n",
    "\"\"\""
   ]
  },
  {
   "cell_type": "code",
   "execution_count": 90,
   "id": "b3dc8593",
   "metadata": {},
   "outputs": [
    {
     "data": {
      "text/html": [
       "<div>\n",
       "<style scoped>\n",
       "    .dataframe tbody tr th:only-of-type {\n",
       "        vertical-align: middle;\n",
       "    }\n",
       "\n",
       "    .dataframe tbody tr th {\n",
       "        vertical-align: top;\n",
       "    }\n",
       "\n",
       "    .dataframe thead th {\n",
       "        text-align: right;\n",
       "    }\n",
       "</style>\n",
       "<table border=\"1\" class=\"dataframe\">\n",
       "  <thead>\n",
       "    <tr style=\"text-align: right;\">\n",
       "      <th></th>\n",
       "      <th>string_field_0</th>\n",
       "      <th>string_field_1</th>\n",
       "      <th>string_field_5</th>\n",
       "      <th>string_field_13</th>\n",
       "      <th>string_field_22</th>\n",
       "      <th>string_field_31</th>\n",
       "    </tr>\n",
       "  </thead>\n",
       "  <tbody>\n",
       "    <tr>\n",
       "      <th>0</th>\n",
       "      <td>서울시</td>\n",
       "      <td>소계</td>\n",
       "      <td>17.3</td>\n",
       "      <td>16.7</td>\n",
       "      <td>17.1</td>\n",
       "      <td>19.8</td>\n",
       "    </tr>\n",
       "  </tbody>\n",
       "</table>\n",
       "</div>"
      ],
      "text/plain": [
       "  string_field_0 string_field_1 string_field_5 string_field_13  \\\n",
       "0            서울시             소계           17.3            16.7   \n",
       "\n",
       "  string_field_22 string_field_31  \n",
       "0            17.1            19.8  "
      ]
     },
     "execution_count": 90,
     "metadata": {},
     "output_type": "execute_result"
    }
   ],
   "source": [
    "df = client.query(sql).to_dataframe()\n",
    "df"
   ]
  },
  {
   "cell_type": "code",
   "execution_count": null,
   "id": "e79f6e48",
   "metadata": {},
   "outputs": [],
   "source": []
  },
  {
   "cell_type": "code",
   "execution_count": 91,
   "id": "154965d5",
   "metadata": {},
   "outputs": [],
   "source": [
    "# 6) 2019~2022 -> 서울시 반려동물 입양 경로(친지 친구 등 아는 사람을 통해 무상 입양)\n",
    "\n",
    "sql = \"\"\"\n",
    "SELECT  \n",
    "   string_field_0,\n",
    "   string_field_1,\n",
    "   string_field_6,\n",
    "   string_field_14,\n",
    "   string_field_23,\n",
    "   string_field_32\n",
    "FROM \n",
    "   project1.pets\n",
    "WHERE\n",
    "   string_field_0 = \"서울시\" AND\n",
    "   string_field_1 = \"소계\"\n",
    "\"\"\""
   ]
  },
  {
   "cell_type": "code",
   "execution_count": 92,
   "id": "a7c81a7c",
   "metadata": {},
   "outputs": [
    {
     "data": {
      "text/html": [
       "<div>\n",
       "<style scoped>\n",
       "    .dataframe tbody tr th:only-of-type {\n",
       "        vertical-align: middle;\n",
       "    }\n",
       "\n",
       "    .dataframe tbody tr th {\n",
       "        vertical-align: top;\n",
       "    }\n",
       "\n",
       "    .dataframe thead th {\n",
       "        text-align: right;\n",
       "    }\n",
       "</style>\n",
       "<table border=\"1\" class=\"dataframe\">\n",
       "  <thead>\n",
       "    <tr style=\"text-align: right;\">\n",
       "      <th></th>\n",
       "      <th>string_field_0</th>\n",
       "      <th>string_field_1</th>\n",
       "      <th>string_field_6</th>\n",
       "      <th>string_field_14</th>\n",
       "      <th>string_field_23</th>\n",
       "      <th>string_field_32</th>\n",
       "    </tr>\n",
       "  </thead>\n",
       "  <tbody>\n",
       "    <tr>\n",
       "      <th>0</th>\n",
       "      <td>서울시</td>\n",
       "      <td>소계</td>\n",
       "      <td>35.7</td>\n",
       "      <td>37.6</td>\n",
       "      <td>37.5</td>\n",
       "      <td>35.5</td>\n",
       "    </tr>\n",
       "  </tbody>\n",
       "</table>\n",
       "</div>"
      ],
      "text/plain": [
       "  string_field_0 string_field_1 string_field_6 string_field_14  \\\n",
       "0            서울시             소계           35.7            37.6   \n",
       "\n",
       "  string_field_23 string_field_32  \n",
       "0            37.5            35.5  "
      ]
     },
     "execution_count": 92,
     "metadata": {},
     "output_type": "execute_result"
    }
   ],
   "source": [
    "df = client.query(sql).to_dataframe()\n",
    "df"
   ]
  },
  {
   "cell_type": "code",
   "execution_count": null,
   "id": "9d51032d",
   "metadata": {},
   "outputs": [],
   "source": []
  },
  {
   "cell_type": "code",
   "execution_count": 93,
   "id": "4fd4a32e",
   "metadata": {},
   "outputs": [],
   "source": [
    "# 6) 2019~2022 -> 서울시 반려동물 입양 경로(인터넷을 통해 구입)\n",
    "\n",
    "sql = \"\"\"\n",
    "SELECT  \n",
    "   string_field_0,\n",
    "   string_field_1,\n",
    "   string_field_7,\n",
    "   string_field_15,\n",
    "   string_field_24,\n",
    "   string_field_33\n",
    "FROM \n",
    "   project1.pets\n",
    "WHERE\n",
    "   string_field_0 = \"서울시\" AND\n",
    "   string_field_1 = \"소계\"\n",
    "\"\"\""
   ]
  },
  {
   "cell_type": "code",
   "execution_count": 94,
   "id": "45a87e3a",
   "metadata": {},
   "outputs": [
    {
     "data": {
      "text/html": [
       "<div>\n",
       "<style scoped>\n",
       "    .dataframe tbody tr th:only-of-type {\n",
       "        vertical-align: middle;\n",
       "    }\n",
       "\n",
       "    .dataframe tbody tr th {\n",
       "        vertical-align: top;\n",
       "    }\n",
       "\n",
       "    .dataframe thead th {\n",
       "        text-align: right;\n",
       "    }\n",
       "</style>\n",
       "<table border=\"1\" class=\"dataframe\">\n",
       "  <thead>\n",
       "    <tr style=\"text-align: right;\">\n",
       "      <th></th>\n",
       "      <th>string_field_0</th>\n",
       "      <th>string_field_1</th>\n",
       "      <th>string_field_7</th>\n",
       "      <th>string_field_15</th>\n",
       "      <th>string_field_24</th>\n",
       "      <th>string_field_33</th>\n",
       "    </tr>\n",
       "  </thead>\n",
       "  <tbody>\n",
       "    <tr>\n",
       "      <th>0</th>\n",
       "      <td>서울시</td>\n",
       "      <td>소계</td>\n",
       "      <td>4.4</td>\n",
       "      <td>3.6</td>\n",
       "      <td>2.3</td>\n",
       "      <td>2.2</td>\n",
       "    </tr>\n",
       "  </tbody>\n",
       "</table>\n",
       "</div>"
      ],
      "text/plain": [
       "  string_field_0 string_field_1 string_field_7 string_field_15  \\\n",
       "0            서울시             소계            4.4             3.6   \n",
       "\n",
       "  string_field_24 string_field_33  \n",
       "0             2.3             2.2  "
      ]
     },
     "execution_count": 94,
     "metadata": {},
     "output_type": "execute_result"
    }
   ],
   "source": [
    "df = client.query(sql).to_dataframe()\n",
    "df"
   ]
  },
  {
   "cell_type": "code",
   "execution_count": null,
   "id": "cfa95679",
   "metadata": {},
   "outputs": [],
   "source": []
  },
  {
   "cell_type": "code",
   "execution_count": 95,
   "id": "7678133b",
   "metadata": {},
   "outputs": [],
   "source": [
    "# 6) 2019~2022 -> 서울시 반려동물 입양 경로(유기동물 입양)\n",
    "\n",
    "sql = \"\"\"\n",
    "SELECT  \n",
    "   string_field_0,\n",
    "   string_field_1,\n",
    "   string_field_8,\n",
    "   string_field_16,\n",
    "   string_field_25,\n",
    "   string_field_34\n",
    "FROM \n",
    "   project1.pets\n",
    "WHERE\n",
    "   string_field_0 = \"서울시\" AND\n",
    "   string_field_1 = \"소계\"\n",
    "\"\"\""
   ]
  },
  {
   "cell_type": "code",
   "execution_count": 96,
   "id": "8924f5b4",
   "metadata": {},
   "outputs": [
    {
     "data": {
      "text/html": [
       "<div>\n",
       "<style scoped>\n",
       "    .dataframe tbody tr th:only-of-type {\n",
       "        vertical-align: middle;\n",
       "    }\n",
       "\n",
       "    .dataframe tbody tr th {\n",
       "        vertical-align: top;\n",
       "    }\n",
       "\n",
       "    .dataframe thead th {\n",
       "        text-align: right;\n",
       "    }\n",
       "</style>\n",
       "<table border=\"1\" class=\"dataframe\">\n",
       "  <thead>\n",
       "    <tr style=\"text-align: right;\">\n",
       "      <th></th>\n",
       "      <th>string_field_0</th>\n",
       "      <th>string_field_1</th>\n",
       "      <th>string_field_8</th>\n",
       "      <th>string_field_16</th>\n",
       "      <th>string_field_25</th>\n",
       "      <th>string_field_34</th>\n",
       "    </tr>\n",
       "  </thead>\n",
       "  <tbody>\n",
       "    <tr>\n",
       "      <th>0</th>\n",
       "      <td>서울시</td>\n",
       "      <td>소계</td>\n",
       "      <td>11.6</td>\n",
       "      <td>14.0</td>\n",
       "      <td>14.2</td>\n",
       "      <td>12.9</td>\n",
       "    </tr>\n",
       "  </tbody>\n",
       "</table>\n",
       "</div>"
      ],
      "text/plain": [
       "  string_field_0 string_field_1 string_field_8 string_field_16  \\\n",
       "0            서울시             소계           11.6            14.0   \n",
       "\n",
       "  string_field_25 string_field_34  \n",
       "0            14.2            12.9  "
      ]
     },
     "execution_count": 96,
     "metadata": {},
     "output_type": "execute_result"
    }
   ],
   "source": [
    "df = client.query(sql).to_dataframe()\n",
    "df"
   ]
  },
  {
   "cell_type": "code",
   "execution_count": null,
   "id": "d3021165",
   "metadata": {},
   "outputs": [],
   "source": []
  },
  {
   "cell_type": "code",
   "execution_count": 97,
   "id": "2801035e",
   "metadata": {},
   "outputs": [],
   "source": [
    "# 6) 2019~2022 -> 서울시 반려동물 입양 경로(원래 기르던 동물이 낳은 새끼)\n",
    "\n",
    "sql = \"\"\"\n",
    "SELECT  \n",
    "   string_field_0,\n",
    "   string_field_1,\n",
    "   string_field_9,\n",
    "   string_field_17,\n",
    "   string_field_26,\n",
    "   string_field_35\n",
    "FROM \n",
    "   project1.pets\n",
    "WHERE\n",
    "   string_field_0 = \"서울시\" AND\n",
    "   string_field_1 = \"소계\"\n",
    "\"\"\""
   ]
  },
  {
   "cell_type": "code",
   "execution_count": 98,
   "id": "1603c3b0",
   "metadata": {},
   "outputs": [
    {
     "data": {
      "text/html": [
       "<div>\n",
       "<style scoped>\n",
       "    .dataframe tbody tr th:only-of-type {\n",
       "        vertical-align: middle;\n",
       "    }\n",
       "\n",
       "    .dataframe tbody tr th {\n",
       "        vertical-align: top;\n",
       "    }\n",
       "\n",
       "    .dataframe thead th {\n",
       "        text-align: right;\n",
       "    }\n",
       "</style>\n",
       "<table border=\"1\" class=\"dataframe\">\n",
       "  <thead>\n",
       "    <tr style=\"text-align: right;\">\n",
       "      <th></th>\n",
       "      <th>string_field_0</th>\n",
       "      <th>string_field_1</th>\n",
       "      <th>string_field_9</th>\n",
       "      <th>string_field_17</th>\n",
       "      <th>string_field_26</th>\n",
       "      <th>string_field_35</th>\n",
       "    </tr>\n",
       "  </thead>\n",
       "  <tbody>\n",
       "    <tr>\n",
       "      <th>0</th>\n",
       "      <td>서울시</td>\n",
       "      <td>소계</td>\n",
       "      <td>5.9</td>\n",
       "      <td>4.3</td>\n",
       "      <td>3.2</td>\n",
       "      <td>6.8</td>\n",
       "    </tr>\n",
       "  </tbody>\n",
       "</table>\n",
       "</div>"
      ],
      "text/plain": [
       "  string_field_0 string_field_1 string_field_9 string_field_17  \\\n",
       "0            서울시             소계            5.9             4.3   \n",
       "\n",
       "  string_field_26 string_field_35  \n",
       "0             3.2             6.8  "
      ]
     },
     "execution_count": 98,
     "metadata": {},
     "output_type": "execute_result"
    }
   ],
   "source": [
    "df = client.query(sql).to_dataframe()\n",
    "df"
   ]
  },
  {
   "cell_type": "code",
   "execution_count": 114,
   "id": "b8ec0312",
   "metadata": {},
   "outputs": [
    {
     "data": {
      "image/png": "[encoded data removed]",
      "text/plain": [
       "<Figure size 640x480 with 1 Axes>"
      ]
     },
     "metadata": {},
     "output_type": "display_data"
    }
   ],
   "source": [
    "# 6) 2019~2022 -> 서울시 반려동물 입양 경로(동물판매업소(애견판매업소 동물병원 등)\n",
    "# 6) 2019~2022 -> 서울시 반려동물 입양 경로(친지 친구 등 아는 사람을 통해 유상 입양)\n",
    "# 6) 2019~2022 -> 서울시 반려동물 입양 경로(친지 친구 등 아는 사람을 통해 무상 입양)\n",
    "# 6) 2019~2022 -> 서울시 반려동물 입양 경로(인터넷을 통해 구입)\n",
    "# 6) 2019~2022 -> 서울시 반려동물 입양 경로(유기동물 입양)\n",
    "# 6) 2019~2022 -> 서울시 반려동물 입양 경로(원래 기르던 동물이 낳은 새끼)\n",
    "# 그래프 합치기\n",
    "\n",
    "import matplotlib.pyplot as plt\n",
    "\n",
    "# Data for the first line graph\n",
    "x_values1 = [2019, 2020, 2021, 2022]\n",
    "y_values1 = [25.1, 23.7, 25.7, 22.9]\n",
    "\n",
    "# Data for the second line graph\n",
    "x_values2 = [2019, 2020, 2021, 2022]\n",
    "y_values2 = [17.3, 16.7, 17.1, 19.8]\n",
    "\n",
    "# Data for the third line graph\n",
    "x_values3 = [2019, 2020, 2021, 2022]\n",
    "y_values3 = [35.7, 37.6, 37.5, 35.5]\n",
    "\n",
    "# Data for the fourth line graph\n",
    "x_values4 = [2019, 2020, 2021, 2022]\n",
    "y_values4 = [4.4, 3.6, 2.3, 2.2]\n",
    "\n",
    "# Data for the fifth line graph\n",
    "x_values5 = [2019, 2020, 2021, 2022]\n",
    "y_values5 = [11.6, 14.0, 14.2, 12.9]\n",
    "\n",
    "# Data for the sixth line graph\n",
    "x_values6 = [2019, 2020, 2021, 2022]\n",
    "y_values6 = [5.9, 4.3, 3.2, 6.8]\n",
    "\n",
    "# Create six line graphs\n",
    "plt.plot(x_values1, y_values1, marker='o', linestyle='-', color='blue', label='animal store')\n",
    "plt.plot(x_values2, y_values2, marker='s', linestyle='--', color='green', label='paid adoption')\n",
    "plt.plot(x_values3, y_values3, marker='s', linestyle='--', color='yellow', label='free adoption')\n",
    "plt.plot(x_values4, y_values4, marker='o', linestyle='-', color='orange', label='internet')\n",
    "plt.plot(x_values5, y_values5, marker='o', linestyle='-', color='black', label='abandoned animal')\n",
    "plt.plot(x_values6, y_values6, marker='s', linestyle='--', color='red', label='baby born')\n",
    "\n",
    "# Adding labels and title\n",
    "plt.xlabel('Years')\n",
    "plt.ylabel('Values(%)')\n",
    "plt.title('Pet Adoption Path')\n",
    "\n",
    "# Adding a legend\n",
    "plt.legend()\n",
    "\n",
    "# Display the line graphs\n",
    "plt.show()"
   ]
  },
  {
   "cell_type": "code",
   "execution_count": 116,
   "id": "6caeac0f",
   "metadata": {},
   "outputs": [
    {
     "data": {
      "image/png": "[encoded data removed]",
      "text/plain": [
       "<Figure size 640x480 with 1 Axes>"
      ]
     },
     "metadata": {},
     "output_type": "display_data"
    }
   ],
   "source": [
    "# 2019\n",
    "\n",
    "import matplotlib.pyplot as plt\n",
    "\n",
    "# Sample data\n",
    "labels = ['Animal store', 'Paid adoption', 'Free adoption', 'Internet', 'Abandoned animal', 'Baby born']\n",
    "sizes = [25.1, 17.3, 35.7, 4.4, 11.6, 5.9]\n",
    "\n",
    "# Plot the pie chart\n",
    "plt.pie(sizes, labels=labels, autopct='%1.1f%%', startangle=90)\n",
    "\n",
    "# Add a title\n",
    "plt.title('2019 Pet Adoption Path')\n",
    "\n",
    "# Display the pie chart\n",
    "plt.show()"
   ]
  },
  {
   "cell_type": "code",
   "execution_count": 117,
   "id": "f080eba2",
   "metadata": {},
   "outputs": [
    {
     "data": {
      "image/png": "[encoded data removed]",
      "text/plain": [
       "<Figure size 640x480 with 1 Axes>"
      ]
     },
     "metadata": {},
     "output_type": "display_data"
    }
   ],
   "source": [
    "# 2020\n",
    "\n",
    "import matplotlib.pyplot as plt\n",
    "\n",
    "# Sample data\n",
    "labels = ['Animal store', 'Paid adoption', 'Free adoption', 'Internet', 'Abandoned animal', 'Baby born']\n",
    "sizes = [23.7, 16.7, 37.6, 3.6, 14.0, 4.3]\n",
    "\n",
    "# Plot the pie chart\n",
    "plt.pie(sizes, labels=labels, autopct='%1.1f%%', startangle=90)\n",
    "\n",
    "# Add a title\n",
    "plt.title('2020 Pet Adoption Path')\n",
    "\n",
    "# Display the pie chart\n",
    "plt.show()"
   ]
  },
  {
   "cell_type": "code",
   "execution_count": 118,
   "id": "2f2e7fb0",
   "metadata": {},
   "outputs": [
    {
     "data": {
      "image/png": "[encoded data removed]",
      "text/plain": [
       "<Figure size 640x480 with 1 Axes>"
      ]
     },
     "metadata": {},
     "output_type": "display_data"
    }
   ],
   "source": [
    "# 2021\n",
    "\n",
    "import matplotlib.pyplot as plt\n",
    "\n",
    "# Sample data\n",
    "labels = ['Animal store', 'Paid adoption', 'Free adoption', 'Internet', 'Abandoned animal', 'Baby born']\n",
    "sizes = [25.7, 17.1, 37.5, 2.3, 14.2, 3.2]\n",
    "\n",
    "# Plot the pie chart\n",
    "plt.pie(sizes, labels=labels, autopct='%1.1f%%', startangle=90)\n",
    "\n",
    "# Add a title\n",
    "plt.title('2021 Pet Adoption Path')\n",
    "\n",
    "# Display the pie chart\n",
    "plt.show()"
   ]
  },
  {
   "cell_type": "code",
   "execution_count": 119,
   "id": "743d3610",
   "metadata": {},
   "outputs": [
    {
     "data": {
      "image/png": "[encoded data removed]",
      "text/plain": [
       "<Figure size 640x480 with 1 Axes>"
      ]
     },
     "metadata": {},
     "output_type": "display_data"
    }
   ],
   "source": [
    "# 2022\n",
    "\n",
    "import matplotlib.pyplot as plt\n",
    "\n",
    "# Sample data\n",
    "labels = ['Animal store', 'Paid adoption', 'Free adoption', 'Internet', 'Abandoned animal', 'Baby born']\n",
    "sizes = [22.9, 19.8, 35.5, 2.2, 12.9, 6.8]\n",
    "\n",
    "# Plot the pie chart\n",
    "plt.pie(sizes, labels=labels, autopct='%1.1f%%', startangle=90)\n",
    "\n",
    "# Add a title\n",
    "plt.title('2022 Pet Adoption Path')\n",
    "\n",
    "# Display the pie chart\n",
    "plt.show()"
   ]
  },
  {
   "cell_type": "code",
   "execution_count": 5,
   "id": "77171b9e",
   "metadata": {},
   "outputs": [],
   "source": [
    "# 2020\n",
    "# 소득과 반려동물 입양의 상관관계\n",
    "# 100만원 미만\n",
    "\n",
    "sql = \"\"\"\n",
    "SELECT  \n",
    "   string_field_0,\n",
    "   string_field_1,\n",
    "   string_field_10\n",
    "FROM \n",
    "   project1.pets\n",
    "WHERE\n",
    "   string_field_0 = \"소득\" AND\n",
    "   string_field_1 = \"100만원 미만\"\n",
    "\"\"\""
   ]
  },
  {
   "cell_type": "code",
   "execution_count": 6,
   "id": "f8c8b2e5",
   "metadata": {},
   "outputs": [
    {
     "data": {
      "text/html": [
       "<div>\n",
       "<style scoped>\n",
       "    .dataframe tbody tr th:only-of-type {\n",
       "        vertical-align: middle;\n",
       "    }\n",
       "\n",
       "    .dataframe tbody tr th {\n",
       "        vertical-align: top;\n",
       "    }\n",
       "\n",
       "    .dataframe thead th {\n",
       "        text-align: right;\n",
       "    }\n",
       "</style>\n",
       "<table border=\"1\" class=\"dataframe\">\n",
       "  <thead>\n",
       "    <tr style=\"text-align: right;\">\n",
       "      <th></th>\n",
       "      <th>string_field_0</th>\n",
       "      <th>string_field_1</th>\n",
       "      <th>string_field_10</th>\n",
       "    </tr>\n",
       "  </thead>\n",
       "  <tbody>\n",
       "    <tr>\n",
       "      <th>0</th>\n",
       "      <td>소득</td>\n",
       "      <td>100만원 미만</td>\n",
       "      <td>12.0</td>\n",
       "    </tr>\n",
       "  </tbody>\n",
       "</table>\n",
       "</div>"
      ],
      "text/plain": [
       "  string_field_0 string_field_1 string_field_10\n",
       "0             소득       100만원 미만            12.0"
      ]
     },
     "execution_count": 6,
     "metadata": {},
     "output_type": "execute_result"
    }
   ],
   "source": [
    "df = client.query(sql).to_dataframe()\n",
    "df"
   ]
  },
  {
   "cell_type": "code",
   "execution_count": 7,
   "id": "59482355",
   "metadata": {},
   "outputs": [],
   "source": [
    "# 2020\n",
    "# 소득과 반려동물 입양의 상관관계\n",
    "# 100-200만원 미만\n",
    "\n",
    "sql = \"\"\"\n",
    "SELECT  \n",
    "   string_field_0,\n",
    "   string_field_1,\n",
    "   string_field_10\n",
    "FROM \n",
    "   project1.pets\n",
    "WHERE\n",
    "   string_field_0 = \"소득\" AND\n",
    "   string_field_1 = \"100-200만원 미만\"\n",
    "\"\"\""
   ]
  },
  {
   "cell_type": "code",
   "execution_count": 8,
   "id": "ea18e04f",
   "metadata": {},
   "outputs": [
    {
     "data": {
      "text/html": [
       "<div>\n",
       "<style scoped>\n",
       "    .dataframe tbody tr th:only-of-type {\n",
       "        vertical-align: middle;\n",
       "    }\n",
       "\n",
       "    .dataframe tbody tr th {\n",
       "        vertical-align: top;\n",
       "    }\n",
       "\n",
       "    .dataframe thead th {\n",
       "        text-align: right;\n",
       "    }\n",
       "</style>\n",
       "<table border=\"1\" class=\"dataframe\">\n",
       "  <thead>\n",
       "    <tr style=\"text-align: right;\">\n",
       "      <th></th>\n",
       "      <th>string_field_0</th>\n",
       "      <th>string_field_1</th>\n",
       "      <th>string_field_10</th>\n",
       "    </tr>\n",
       "  </thead>\n",
       "  <tbody>\n",
       "    <tr>\n",
       "      <th>0</th>\n",
       "      <td>소득</td>\n",
       "      <td>100-200만원 미만</td>\n",
       "      <td>15.5</td>\n",
       "    </tr>\n",
       "  </tbody>\n",
       "</table>\n",
       "</div>"
      ],
      "text/plain": [
       "  string_field_0 string_field_1 string_field_10\n",
       "0             소득   100-200만원 미만            15.5"
      ]
     },
     "execution_count": 8,
     "metadata": {},
     "output_type": "execute_result"
    }
   ],
   "source": [
    "df = client.query(sql).to_dataframe()\n",
    "df"
   ]
  },
  {
   "cell_type": "code",
   "execution_count": 9,
   "id": "788b9385",
   "metadata": {},
   "outputs": [],
   "source": [
    "# 2020\n",
    "# 소득과 반려동물 입양의 상관관계\n",
    "# 200-300만원 미만\n",
    "\n",
    "sql = \"\"\"\n",
    "SELECT  \n",
    "   string_field_0,\n",
    "   string_field_1,\n",
    "   string_field_10\n",
    "FROM \n",
    "   project1.pets\n",
    "WHERE\n",
    "   string_field_0 = \"소득\" AND\n",
    "   string_field_1 = \"200-300만원 미만\"\n",
    "\"\"\""
   ]
  },
  {
   "cell_type": "code",
   "execution_count": 10,
   "id": "db85657f",
   "metadata": {},
   "outputs": [
    {
     "data": {
      "text/html": [
       "<div>\n",
       "<style scoped>\n",
       "    .dataframe tbody tr th:only-of-type {\n",
       "        vertical-align: middle;\n",
       "    }\n",
       "\n",
       "    .dataframe tbody tr th {\n",
       "        vertical-align: top;\n",
       "    }\n",
       "\n",
       "    .dataframe thead th {\n",
       "        text-align: right;\n",
       "    }\n",
       "</style>\n",
       "<table border=\"1\" class=\"dataframe\">\n",
       "  <thead>\n",
       "    <tr style=\"text-align: right;\">\n",
       "      <th></th>\n",
       "      <th>string_field_0</th>\n",
       "      <th>string_field_1</th>\n",
       "      <th>string_field_10</th>\n",
       "    </tr>\n",
       "  </thead>\n",
       "  <tbody>\n",
       "    <tr>\n",
       "      <th>0</th>\n",
       "      <td>소득</td>\n",
       "      <td>200-300만원 미만</td>\n",
       "      <td>17.9</td>\n",
       "    </tr>\n",
       "  </tbody>\n",
       "</table>\n",
       "</div>"
      ],
      "text/plain": [
       "  string_field_0 string_field_1 string_field_10\n",
       "0             소득   200-300만원 미만            17.9"
      ]
     },
     "execution_count": 10,
     "metadata": {},
     "output_type": "execute_result"
    }
   ],
   "source": [
    "df = client.query(sql).to_dataframe()\n",
    "df"
   ]
  },
  {
   "cell_type": "code",
   "execution_count": 11,
   "id": "b3e63b14",
   "metadata": {},
   "outputs": [],
   "source": [
    "# 2020\n",
    "# 소득과 반려동물 입양의 상관관계\n",
    "# 300-400만원 미만\n",
    "\n",
    "sql = \"\"\"\n",
    "SELECT  \n",
    "   string_field_0,\n",
    "   string_field_1,\n",
    "   string_field_10\n",
    "FROM \n",
    "   project1.pets\n",
    "WHERE\n",
    "   string_field_0 = \"소득\" AND\n",
    "   string_field_1 = \"300-400만원 미만\"\n",
    "\"\"\""
   ]
  },
  {
   "cell_type": "code",
   "execution_count": 12,
   "id": "790607ef",
   "metadata": {},
   "outputs": [
    {
     "data": {
      "text/html": [
       "<div>\n",
       "<style scoped>\n",
       "    .dataframe tbody tr th:only-of-type {\n",
       "        vertical-align: middle;\n",
       "    }\n",
       "\n",
       "    .dataframe tbody tr th {\n",
       "        vertical-align: top;\n",
       "    }\n",
       "\n",
       "    .dataframe thead th {\n",
       "        text-align: right;\n",
       "    }\n",
       "</style>\n",
       "<table border=\"1\" class=\"dataframe\">\n",
       "  <thead>\n",
       "    <tr style=\"text-align: right;\">\n",
       "      <th></th>\n",
       "      <th>string_field_0</th>\n",
       "      <th>string_field_1</th>\n",
       "      <th>string_field_10</th>\n",
       "    </tr>\n",
       "  </thead>\n",
       "  <tbody>\n",
       "    <tr>\n",
       "      <th>0</th>\n",
       "      <td>소득</td>\n",
       "      <td>300-400만원 미만</td>\n",
       "      <td>20.6</td>\n",
       "    </tr>\n",
       "  </tbody>\n",
       "</table>\n",
       "</div>"
      ],
      "text/plain": [
       "  string_field_0 string_field_1 string_field_10\n",
       "0             소득   300-400만원 미만            20.6"
      ]
     },
     "execution_count": 12,
     "metadata": {},
     "output_type": "execute_result"
    }
   ],
   "source": [
    "df = client.query(sql).to_dataframe()\n",
    "df"
   ]
  },
  {
   "cell_type": "code",
   "execution_count": 13,
   "id": "2a148726",
   "metadata": {},
   "outputs": [],
   "source": [
    "# 2020\n",
    "# 소득과 반려동물 입양의 상관관계\n",
    "# 400-500만원 미만\n",
    "\n",
    "sql = \"\"\"\n",
    "SELECT  \n",
    "   string_field_0,\n",
    "   string_field_1,\n",
    "   string_field_10\n",
    "FROM \n",
    "   project1.pets\n",
    "WHERE\n",
    "   string_field_0 = \"소득\" AND\n",
    "   string_field_1 = \"400-500만원 미만\"\n",
    "\"\"\""
   ]
  },
  {
   "cell_type": "code",
   "execution_count": 14,
   "id": "11373d8c",
   "metadata": {},
   "outputs": [
    {
     "data": {
      "text/html": [
       "<div>\n",
       "<style scoped>\n",
       "    .dataframe tbody tr th:only-of-type {\n",
       "        vertical-align: middle;\n",
       "    }\n",
       "\n",
       "    .dataframe tbody tr th {\n",
       "        vertical-align: top;\n",
       "    }\n",
       "\n",
       "    .dataframe thead th {\n",
       "        text-align: right;\n",
       "    }\n",
       "</style>\n",
       "<table border=\"1\" class=\"dataframe\">\n",
       "  <thead>\n",
       "    <tr style=\"text-align: right;\">\n",
       "      <th></th>\n",
       "      <th>string_field_0</th>\n",
       "      <th>string_field_1</th>\n",
       "      <th>string_field_10</th>\n",
       "    </tr>\n",
       "  </thead>\n",
       "  <tbody>\n",
       "    <tr>\n",
       "      <th>0</th>\n",
       "      <td>소득</td>\n",
       "      <td>400-500만원 미만</td>\n",
       "      <td>21.2</td>\n",
       "    </tr>\n",
       "  </tbody>\n",
       "</table>\n",
       "</div>"
      ],
      "text/plain": [
       "  string_field_0 string_field_1 string_field_10\n",
       "0             소득   400-500만원 미만            21.2"
      ]
     },
     "execution_count": 14,
     "metadata": {},
     "output_type": "execute_result"
    }
   ],
   "source": [
    "df = client.query(sql).to_dataframe()\n",
    "df"
   ]
  },
  {
   "cell_type": "code",
   "execution_count": 15,
   "id": "1b7277ca",
   "metadata": {},
   "outputs": [],
   "source": [
    "# 2020\n",
    "# 소득과 반려동물 입양의 상관관계\n",
    "# 500만원 이상\n",
    "sql = \"\"\"\n",
    "SELECT  \n",
    "   string_field_0,\n",
    "   string_field_1,\n",
    "   string_field_10\n",
    "FROM \n",
    "   project1.pets\n",
    "WHERE\n",
    "   string_field_0 = \"소득\" AND\n",
    "   string_field_1 = \"500만원 이상\"\n",
    "\"\"\""
   ]
  },
  {
   "cell_type": "code",
   "execution_count": 16,
   "id": "25170f55",
   "metadata": {},
   "outputs": [
    {
     "data": {
      "text/html": [
       "<div>\n",
       "<style scoped>\n",
       "    .dataframe tbody tr th:only-of-type {\n",
       "        vertical-align: middle;\n",
       "    }\n",
       "\n",
       "    .dataframe tbody tr th {\n",
       "        vertical-align: top;\n",
       "    }\n",
       "\n",
       "    .dataframe thead th {\n",
       "        text-align: right;\n",
       "    }\n",
       "</style>\n",
       "<table border=\"1\" class=\"dataframe\">\n",
       "  <thead>\n",
       "    <tr style=\"text-align: right;\">\n",
       "      <th></th>\n",
       "      <th>string_field_0</th>\n",
       "      <th>string_field_1</th>\n",
       "      <th>string_field_10</th>\n",
       "    </tr>\n",
       "  </thead>\n",
       "  <tbody>\n",
       "    <tr>\n",
       "      <th>0</th>\n",
       "      <td>소득</td>\n",
       "      <td>500만원 이상</td>\n",
       "      <td>24.4</td>\n",
       "    </tr>\n",
       "  </tbody>\n",
       "</table>\n",
       "</div>"
      ],
      "text/plain": [
       "  string_field_0 string_field_1 string_field_10\n",
       "0             소득       500만원 이상            24.4"
      ]
     },
     "execution_count": 16,
     "metadata": {},
     "output_type": "execute_result"
    }
   ],
   "source": [
    "df = client.query(sql).to_dataframe()\n",
    "df"
   ]
  },
  {
   "cell_type": "code",
   "execution_count": 34,
   "id": "ff3dd527",
   "metadata": {},
   "outputs": [
    {
     "data": {
      "image/png": "[encoded data removed]",
      "text/plain": [
       "<Figure size 640x480 with 1 Axes>"
      ]
     },
     "metadata": {},
     "output_type": "display_data"
    }
   ],
   "source": [
    "# 2020 그래프\n",
    "\n",
    "import matplotlib.pyplot as plt\n",
    "\n",
    "# Sample data\n",
    "x = [\"under 100\", \"under 100-200\", \"under 200-300\", \"under 300-400\", \"under 400-500\", \"over 500\"]\n",
    "y = [12.0, 15.5, 17.9, 20.6, 21.2, 24.4]\n",
    "\n",
    "# Rotate x-axis labels by 45 degrees\n",
    "plt.xticks(rotation=45)\n",
    "\n",
    "# Create a line graph\n",
    "plt.plot(x, y, label='\"have pet(s)\"')\n",
    "\n",
    "# Add labels and title\n",
    "plt.xlabel('Earnings')\n",
    "plt.ylabel('Values(%)')\n",
    "plt.title('2020 Earnings and \"have pet(s)\"')\n",
    "\n",
    "# Add a legend\n",
    "plt.legend()\n",
    "\n",
    "# Show the plot\n",
    "plt.show()"
   ]
  },
  {
   "cell_type": "code",
   "execution_count": 23,
   "id": "aae75660",
   "metadata": {},
   "outputs": [],
   "source": [
    "# 2022\n",
    "# 소득과 반려동물 입양의 상관관계\n",
    "# 200만원 미만\n",
    "\n",
    "sql = \"\"\"\n",
    "SELECT  \n",
    "   string_field_0,\n",
    "   string_field_1,\n",
    "   string_field_28\n",
    "FROM \n",
    "   project1.pets\n",
    "WHERE\n",
    "   string_field_0 = \"소득\" AND\n",
    "   string_field_1 = \"200만원 미만\"\n",
    "\"\"\""
   ]
  },
  {
   "cell_type": "code",
   "execution_count": 24,
   "id": "b076aeb4",
   "metadata": {},
   "outputs": [
    {
     "data": {
      "text/html": [
       "<div>\n",
       "<style scoped>\n",
       "    .dataframe tbody tr th:only-of-type {\n",
       "        vertical-align: middle;\n",
       "    }\n",
       "\n",
       "    .dataframe tbody tr th {\n",
       "        vertical-align: top;\n",
       "    }\n",
       "\n",
       "    .dataframe thead th {\n",
       "        text-align: right;\n",
       "    }\n",
       "</style>\n",
       "<table border=\"1\" class=\"dataframe\">\n",
       "  <thead>\n",
       "    <tr style=\"text-align: right;\">\n",
       "      <th></th>\n",
       "      <th>string_field_0</th>\n",
       "      <th>string_field_1</th>\n",
       "      <th>string_field_28</th>\n",
       "    </tr>\n",
       "  </thead>\n",
       "  <tbody>\n",
       "    <tr>\n",
       "      <th>0</th>\n",
       "      <td>소득</td>\n",
       "      <td>200만원 미만</td>\n",
       "      <td>14.1</td>\n",
       "    </tr>\n",
       "  </tbody>\n",
       "</table>\n",
       "</div>"
      ],
      "text/plain": [
       "  string_field_0 string_field_1 string_field_28\n",
       "0             소득       200만원 미만            14.1"
      ]
     },
     "execution_count": 24,
     "metadata": {},
     "output_type": "execute_result"
    }
   ],
   "source": [
    "df = client.query(sql).to_dataframe()\n",
    "df"
   ]
  },
  {
   "cell_type": "code",
   "execution_count": 25,
   "id": "a4c5ee2d",
   "metadata": {},
   "outputs": [],
   "source": [
    "# 2022\n",
    "# 소득과 반려동물 입양의 상관관계\n",
    "# 200-400만원 미만\n",
    "\n",
    "sql = \"\"\"\n",
    "SELECT  \n",
    "   string_field_0,\n",
    "   string_field_1,\n",
    "   string_field_28\n",
    "FROM \n",
    "   project1.pets\n",
    "WHERE\n",
    "   string_field_0 = \"소득\" AND\n",
    "   string_field_1 = \"200-400만원 미만\"\n",
    "\"\"\""
   ]
  },
  {
   "cell_type": "code",
   "execution_count": 26,
   "id": "54ee7e37",
   "metadata": {},
   "outputs": [
    {
     "data": {
      "text/html": [
       "<div>\n",
       "<style scoped>\n",
       "    .dataframe tbody tr th:only-of-type {\n",
       "        vertical-align: middle;\n",
       "    }\n",
       "\n",
       "    .dataframe tbody tr th {\n",
       "        vertical-align: top;\n",
       "    }\n",
       "\n",
       "    .dataframe thead th {\n",
       "        text-align: right;\n",
       "    }\n",
       "</style>\n",
       "<table border=\"1\" class=\"dataframe\">\n",
       "  <thead>\n",
       "    <tr style=\"text-align: right;\">\n",
       "      <th></th>\n",
       "      <th>string_field_0</th>\n",
       "      <th>string_field_1</th>\n",
       "      <th>string_field_28</th>\n",
       "    </tr>\n",
       "  </thead>\n",
       "  <tbody>\n",
       "    <tr>\n",
       "      <th>0</th>\n",
       "      <td>소득</td>\n",
       "      <td>200-400만원 미만</td>\n",
       "      <td>19.9</td>\n",
       "    </tr>\n",
       "  </tbody>\n",
       "</table>\n",
       "</div>"
      ],
      "text/plain": [
       "  string_field_0 string_field_1 string_field_28\n",
       "0             소득   200-400만원 미만            19.9"
      ]
     },
     "execution_count": 26,
     "metadata": {},
     "output_type": "execute_result"
    }
   ],
   "source": [
    "df = client.query(sql).to_dataframe()\n",
    "df"
   ]
  },
  {
   "cell_type": "code",
   "execution_count": 27,
   "id": "3cd88756",
   "metadata": {},
   "outputs": [],
   "source": [
    "# 2022\n",
    "# 소득과 반려동물 입양의 상관관계\n",
    "# 400-600만원 미만\n",
    "\n",
    "sql = \"\"\"\n",
    "SELECT  \n",
    "   string_field_0,\n",
    "   string_field_1,\n",
    "   string_field_28\n",
    "FROM \n",
    "   project1.pets\n",
    "WHERE\n",
    "   string_field_0 = \"소득\" AND\n",
    "   string_field_1 = \"400-600만원 미만\"\n",
    "\"\"\""
   ]
  },
  {
   "cell_type": "code",
   "execution_count": 28,
   "id": "1376b5e3",
   "metadata": {},
   "outputs": [
    {
     "data": {
      "text/html": [
       "<div>\n",
       "<style scoped>\n",
       "    .dataframe tbody tr th:only-of-type {\n",
       "        vertical-align: middle;\n",
       "    }\n",
       "\n",
       "    .dataframe tbody tr th {\n",
       "        vertical-align: top;\n",
       "    }\n",
       "\n",
       "    .dataframe thead th {\n",
       "        text-align: right;\n",
       "    }\n",
       "</style>\n",
       "<table border=\"1\" class=\"dataframe\">\n",
       "  <thead>\n",
       "    <tr style=\"text-align: right;\">\n",
       "      <th></th>\n",
       "      <th>string_field_0</th>\n",
       "      <th>string_field_1</th>\n",
       "      <th>string_field_28</th>\n",
       "    </tr>\n",
       "  </thead>\n",
       "  <tbody>\n",
       "    <tr>\n",
       "      <th>0</th>\n",
       "      <td>소득</td>\n",
       "      <td>400-600만원 미만</td>\n",
       "      <td>23.1</td>\n",
       "    </tr>\n",
       "  </tbody>\n",
       "</table>\n",
       "</div>"
      ],
      "text/plain": [
       "  string_field_0 string_field_1 string_field_28\n",
       "0             소득   400-600만원 미만            23.1"
      ]
     },
     "execution_count": 28,
     "metadata": {},
     "output_type": "execute_result"
    }
   ],
   "source": [
    "df = client.query(sql).to_dataframe()\n",
    "df"
   ]
  },
  {
   "cell_type": "code",
   "execution_count": 29,
   "id": "5cf36ca6",
   "metadata": {},
   "outputs": [],
   "source": [
    "# 2022\n",
    "# 소득과 반려동물 입양의 상관관계\n",
    "# 600-800만원 미만\n",
    "\n",
    "sql = \"\"\"\n",
    "SELECT  \n",
    "   string_field_0,\n",
    "   string_field_1,\n",
    "   string_field_28\n",
    "FROM \n",
    "   project1.pets\n",
    "WHERE\n",
    "   string_field_0 = \"소득\" AND\n",
    "   string_field_1 = \"600-800만원 미만\"\n",
    "\"\"\""
   ]
  },
  {
   "cell_type": "code",
   "execution_count": 30,
   "id": "e68473e0",
   "metadata": {},
   "outputs": [
    {
     "data": {
      "text/html": [
       "<div>\n",
       "<style scoped>\n",
       "    .dataframe tbody tr th:only-of-type {\n",
       "        vertical-align: middle;\n",
       "    }\n",
       "\n",
       "    .dataframe tbody tr th {\n",
       "        vertical-align: top;\n",
       "    }\n",
       "\n",
       "    .dataframe thead th {\n",
       "        text-align: right;\n",
       "    }\n",
       "</style>\n",
       "<table border=\"1\" class=\"dataframe\">\n",
       "  <thead>\n",
       "    <tr style=\"text-align: right;\">\n",
       "      <th></th>\n",
       "      <th>string_field_0</th>\n",
       "      <th>string_field_1</th>\n",
       "      <th>string_field_28</th>\n",
       "    </tr>\n",
       "  </thead>\n",
       "  <tbody>\n",
       "    <tr>\n",
       "      <th>0</th>\n",
       "      <td>소득</td>\n",
       "      <td>600-800만원 미만</td>\n",
       "      <td>26.5</td>\n",
       "    </tr>\n",
       "  </tbody>\n",
       "</table>\n",
       "</div>"
      ],
      "text/plain": [
       "  string_field_0 string_field_1 string_field_28\n",
       "0             소득   600-800만원 미만            26.5"
      ]
     },
     "execution_count": 30,
     "metadata": {},
     "output_type": "execute_result"
    }
   ],
   "source": [
    "df = client.query(sql).to_dataframe()\n",
    "df"
   ]
  },
  {
   "cell_type": "code",
   "execution_count": 31,
   "id": "455da28a",
   "metadata": {},
   "outputs": [],
   "source": [
    "# 2022\n",
    "# 소득과 반려동물 입양의 상관관계\n",
    "# 800만원 이상\n",
    "\n",
    "sql = \"\"\"\n",
    "SELECT  \n",
    "   string_field_0,\n",
    "   string_field_1,\n",
    "   string_field_28\n",
    "FROM \n",
    "   project1.pets\n",
    "WHERE\n",
    "   string_field_0 = \"소득\" AND\n",
    "   string_field_1 = \"800만원 이상\"\n",
    "\"\"\""
   ]
  },
  {
   "cell_type": "code",
   "execution_count": 32,
   "id": "acdc0c58",
   "metadata": {},
   "outputs": [
    {
     "data": {
      "text/html": [
       "<div>\n",
       "<style scoped>\n",
       "    .dataframe tbody tr th:only-of-type {\n",
       "        vertical-align: middle;\n",
       "    }\n",
       "\n",
       "    .dataframe tbody tr th {\n",
       "        vertical-align: top;\n",
       "    }\n",
       "\n",
       "    .dataframe thead th {\n",
       "        text-align: right;\n",
       "    }\n",
       "</style>\n",
       "<table border=\"1\" class=\"dataframe\">\n",
       "  <thead>\n",
       "    <tr style=\"text-align: right;\">\n",
       "      <th></th>\n",
       "      <th>string_field_0</th>\n",
       "      <th>string_field_1</th>\n",
       "      <th>string_field_28</th>\n",
       "    </tr>\n",
       "  </thead>\n",
       "  <tbody>\n",
       "    <tr>\n",
       "      <th>0</th>\n",
       "      <td>소득</td>\n",
       "      <td>800만원 이상</td>\n",
       "      <td>38.1</td>\n",
       "    </tr>\n",
       "  </tbody>\n",
       "</table>\n",
       "</div>"
      ],
      "text/plain": [
       "  string_field_0 string_field_1 string_field_28\n",
       "0             소득       800만원 이상            38.1"
      ]
     },
     "execution_count": 32,
     "metadata": {},
     "output_type": "execute_result"
    }
   ],
   "source": [
    "df = client.query(sql).to_dataframe()\n",
    "df"
   ]
  },
  {
   "cell_type": "code",
   "execution_count": 35,
   "id": "1f7ecd9d",
   "metadata": {},
   "outputs": [
    {
     "data": {
      "image/png": "[encoded data removed]",
      "text/plain": [
       "<Figure size 640x480 with 1 Axes>"
      ]
     },
     "metadata": {},
     "output_type": "display_data"
    }
   ],
   "source": [
    "# 2022 그래프\n",
    "\n",
    "import matplotlib.pyplot as plt\n",
    "\n",
    "# Sample data\n",
    "x = [\"under 200\", \"under 200-400\", \"under 400-600\", \"under 600-800\", \"over 800\"]\n",
    "y = [14.1, 19.9, 23.1, 26.5, 38.1]\n",
    "\n",
    "# Rotate x-axis labels by 45 degrees\n",
    "plt.xticks(rotation=45)\n",
    "\n",
    "# Create a line graph\n",
    "plt.plot(x, y, label='\"have pet(s)\"')\n",
    "\n",
    "# Add labels and title\n",
    "plt.xlabel('Earnings')\n",
    "plt.ylabel('Values(%)')\n",
    "plt.title('2022 Earnings and \"have pet(s)\"')\n",
    "\n",
    "# Add a legend\n",
    "plt.legend()\n",
    "\n",
    "# Show the plot\n",
    "plt.show()"
   ]
  },
  {
   "cell_type": "code",
   "execution_count": null,
   "id": "4a6623d3",
   "metadata": {},
   "outputs": [],
   "source": []
  }
 ],
 "metadata": {
  "kernelspec": {
   "display_name": "Python 3 (ipykernel)",
   "language": "python",
   "name": "python3"
  },
  "language_info": {
   "codemirror_mode": {
    "name": "ipython",
    "version": 3
   },
   "file_extension": ".py",
   "mimetype": "text/x-python",
   "name": "python",
   "nbconvert_exporter": "python",
   "pygments_lexer": "ipython3",
   "version": "3.11.5"
  }
 },
 "nbformat": 4,
 "nbformat_minor": 5
}
